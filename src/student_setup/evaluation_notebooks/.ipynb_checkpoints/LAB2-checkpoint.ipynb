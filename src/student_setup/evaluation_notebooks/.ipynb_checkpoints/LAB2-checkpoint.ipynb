{
 "cells": [
  {
   "cell_type": "markdown",
   "metadata": {},
   "source": [
    "# Lab 2: Lists\n",
    "\n",
    "There are some lab questions at the end to help reinforce your new Python skills.  Your solutions are not graded so do not worry if you can not finish them all."
   ]
  },
  {
   "cell_type": "markdown",
   "metadata": {},
   "source": [
    "## Data structures\n",
    "Organising data into **data structures** is a key part of programming. Most languages support a number of different types of data structures which **aggregate** (collect together) simple data like numbers, strings or other data structures. They are sometimes called **compound** data structures because they are made up of elements.\n",
    "\n",
    "## Lists\n",
    "Lists are probably the most important compound data type in Python and are very widely used. They are a **sequence type** and represent an ordered sequence of values. Sequence types are a specialised kind of **collection type** (they impose **order**); a **collection type** just means a data type that holds multiple elements.\n",
    "\n",
    "I'll use **element** to mean a value that can be in a list, and **sequence** to refer to any ordered collection of **elements**. For example the list \n",
    "\n",
    "    [1,2,3]\n",
    "    \n",
    "is a **sequence** of **elements** 1, 2 and 3.\n"
   ]
  },
  {
   "cell_type": "markdown",
   "metadata": {},
   "source": [
    "## Syntax\n",
    "Lists have a **literal syntax** (this means you can directly create a list in a single step in Python). \n",
    "\n",
    "Just put values between square brackets `[ ]` and separate with commas:"
   ]
  },
  {
   "cell_type": "code",
   "execution_count": null,
   "metadata": {},
   "outputs": [],
   "source": [
    "singleElement_list = [1]\n",
    "intList = [5, 6, 7, 8]\n",
    "stringList = [\"first\", \"last\"]\n",
    "\n",
    "# note that we can put lists inside lists using this syntax\n",
    "nestedList = [1, [2, [3]], 4]\n",
    "\n",
    "# we might write the card hand a\n",
    "# ace-of-hearts, ace-of-clubs, king-of-clubs, king-of-spades\n",
    "# like this, as a list of four pairs\n",
    "twoPair = [[\"a\", \"hearts\"], \n",
    "             [\"a\", \"clubs\"], \n",
    "             [\"k\", \"clubs\"],\n",
    "             [\"k\", \"spades\"]]\n",
    "\n",
    "emptyList = []"
   ]
  },
  {
   "cell_type": "code",
   "execution_count": null,
   "metadata": {},
   "outputs": [],
   "source": [
    "intList = [1, 2, 3]\n",
    "stringList = [\"one\", \"two\", \"three\"]\n",
    "\n",
    "# note that it's fine for a list to hold more lists\n",
    "# or any other collection type\n",
    "listOfLists = [intList, stringList]\n",
    "\n",
    "print(intList)\n",
    "print(stringList)\n",
    "print(listOfLists)"
   ]
  },
  {
   "cell_type": "code",
   "execution_count": null,
   "metadata": {},
   "outputs": [],
   "source": [
    "mixedList = [1, 2, \"three\", \"four\", 5, intList]\n",
    "print(mixedList)"
   ]
  },
  {
   "cell_type": "markdown",
   "metadata": {},
   "source": [
    "## Length\n",
    "The length of a list -- the number of values it contains --  can be returned using `len()`. `len()` actually works for **any** sequence type, e.g. for strings."
   ]
  },
  {
   "cell_type": "code",
   "execution_count": null,
   "metadata": {},
   "outputs": [],
   "source": [
    "a = []\n",
    "print(a, len(a))\n",
    "b = [1]\n",
    "print(b, len(b))\n",
    "c = [1,2,3]\n",
    "print(c, len(c))"
   ]
  },
  {
   "cell_type": "code",
   "execution_count": null,
   "metadata": {},
   "outputs": [],
   "source": [
    "## tricky: this list has one element -- which is itself a list\n",
    "d = [[1,2,3]]\n",
    "print(d, len(d))"
   ]
  },
  {
   "cell_type": "markdown",
   "metadata": {},
   "source": [
    "## Indexing\n",
    "To access a single elements of a list, we use square brackets after the list. This is called **indexing**."
   ]
  },
  {
   "cell_type": "code",
   "execution_count": null,
   "metadata": {},
   "outputs": [],
   "source": [
    "elements = [\"air\", \"earth\", \"fire\", \"water\"]\n",
    "print(elements[0])  # first element of a\n",
    "print(elements[3])  # last element of a"
   ]
  },
  {
   "cell_type": "markdown",
   "metadata": {},
   "source": [
    "#### 0-based indexing\n",
    "Python indices lists beginning at 0 (not 1!), so the first element of a list is indexed by [0]  and the last element is (len(list)-1)."
   ]
  },
  {
   "cell_type": "code",
   "execution_count": null,
   "metadata": {},
   "outputs": [],
   "source": [
    "print(elements[4]) # this is an error at runtime -- there are only 4 elements!"
   ]
  },
  {
   "cell_type": "markdown",
   "metadata": {},
   "source": [
    "## Negative-indices\n",
    "If you use a negative index, Python treats it as counting backwards from the end of the list. For example `elements[-1]` means the last element in the list; `elements[-2]` means the second-to-last, and so on.\n"
   ]
  },
  {
   "cell_type": "code",
   "execution_count": null,
   "metadata": {},
   "outputs": [],
   "source": [
    "print(elements[-1]) # you might think this would be an error... but it isn't!\n",
    "print(elements[-2])"
   ]
  },
  {
   "cell_type": "markdown",
   "metadata": {},
   "source": [
    "## Slicing\n",
    "\n",
    "As well as **indexing** which extracts a specific element, Python lets you **slice** sequence types like lists. This makes it very easy to pick out subsections of a list. Slicing \"chops out\" a subsequence from a sequence. It works for lists, strings, arrays and many other sequence types.\n",
    "\n",
    "Slicing uses the syntax:\n",
    "\n",
    "    my_list[start:end]\n",
    "\n",
    "and will return all elements starting at `start` and ending at **but not including** `end`."
   ]
  },
  {
   "cell_type": "code",
   "execution_count": 16,
   "metadata": {},
   "outputs": [
    {
     "name": "stdout",
     "output_type": "stream",
     "text": [
      "a [0, 1, 2, 3, 4, 5, 6, 7, 8, 9, 10, 11, 12, 13, 14, 15, 16, 17, 18, 19]\n"
     ]
    }
   ],
   "source": [
    "a = list(range(20))   # range creates a list of numbers 0..19\n",
    "\n",
    "print(\"a\", a)"
   ]
  },
  {
   "cell_type": "code",
   "execution_count": null,
   "metadata": {},
   "outputs": [],
   "source": [
    "print(\"0:5 \", a[0:5])   # creates a new list with \n",
    "                        # first five elements of a\n",
    "    \n",
    "# We can just omit the start\n",
    "# it will default to 0\n",
    "print(\":5 \", a[:5])     # creates a new list \n",
    "                        # with first five elements of a"
   ]
  },
  {
   "cell_type": "code",
   "execution_count": 17,
   "metadata": {},
   "outputs": [
    {
     "name": "stdout",
     "output_type": "stream",
     "text": [
      "5:10 [5, 6, 7, 8, 9]\n"
     ]
    }
   ],
   "source": [
    "print(\"5:10\", a[5:10])  # 6th to 10th element"
   ]
  },
  {
   "cell_type": "code",
   "execution_count": null,
   "metadata": {},
   "outputs": [],
   "source": [
    "print(\"10:\", a[10:])  # After the tenth element"
   ]
  },
  {
   "cell_type": "code",
   "execution_count": null,
   "metadata": {},
   "outputs": [],
   "source": [
    "print(\":-5 \", a[:-5])   # omitting the first index means the same as zero; \n",
    "               # negative numbers work exactly as in indexing\n",
    "               # this takes everything except the last five elements"
   ]
  },
  {
   "cell_type": "code",
   "execution_count": null,
   "metadata": {},
   "outputs": [],
   "source": [
    "print(\"-5: \", a[-5:])    # omitting the last index means until the end\n",
    "               # this takes the last five elements only"
   ]
  },
  {
   "cell_type": "markdown",
   "metadata": {},
   "source": [
    "## Advanced slicing\n",
    "You can specify **three-element** slices in Python:\n",
    "   \n",
    "       my_list[a:b:c]\n",
    "\n",
    "which means take the elements from `a:b` (as before), **taking only every `c`th element**"
   ]
  },
  {
   "cell_type": "code",
   "execution_count": null,
   "metadata": {},
   "outputs": [],
   "source": [
    "a = list(range(20))   # range creates a list of numbers 0..19\n",
    "\n",
    "print(\"0:10\", a[0:10])   # simple 2 element slice\n",
    "print(\"0:10:1\", a[0:10:1]) # exactly the same as a[0:10]\n",
    "print(\"0:10:2\", a[0:10:2]) # every second element of a[0:10]\n",
    "print(\"0:10:20\", a[0:10:20]) # every twentieth element of a[0:10]; \n",
    "print(\"::3\", a[::3]) # every third element of a\n",
    "# note that the count starts at zero, so we will always get the first element"
   ]
  },
  {
   "cell_type": "markdown",
   "metadata": {},
   "source": [
    "#### Slicing backwards\n",
    "If the step is negative, we will step **backwards** through the list. This is exactly how the `range()` function worked in defining `for` loops."
   ]
  },
  {
   "cell_type": "code",
   "execution_count": null,
   "metadata": {},
   "outputs": [],
   "source": [
    "a = list(range(20))\n",
    "\n",
    "print(a[10:0:-1]) # every element of a[0:10] in reverse order\n",
    "print(a[10:0:-2]) # every second element of a[0:10] in reverse order.\n",
    "\n",
    "## shorthand to reverse a list\n",
    "print(a[::-1])   # the whole list, in reverse order"
   ]
  },
  {
   "cell_type": "markdown",
   "metadata": {},
   "source": [
    "### Item and slice assignment\n",
    "\n",
    "We can assign directly to list elements. This has an indexed list on the LHS and any value on the RHS\n",
    "\n",
    "    list[index] = value\n",
    "    \n",
    "    "
   ]
  },
  {
   "cell_type": "code",
   "execution_count": null,
   "metadata": {},
   "outputs": [],
   "source": [
    "l = [1,2,3]\n",
    "l[0] = \"Wonderful\"\n",
    "print(l)"
   ]
  },
  {
   "cell_type": "markdown",
   "metadata": {},
   "source": [
    "This also works with slices, as long as the LHS and RHS have a\n",
    "matching number of elements.\n",
    "\n",
    "    mylist[a:b] = otherlist"
   ]
  },
  {
   "cell_type": "code",
   "execution_count": null,
   "metadata": {},
   "outputs": [],
   "source": [
    "# you can assign to slices -- as long as they have the same size on both\n",
    "# the left and right hand sides\n",
    "l[0:2] = [\"seven\", \"nine\"]\n",
    "print(l)"
   ]
  },
  {
   "cell_type": "code",
   "execution_count": null,
   "metadata": {},
   "outputs": [],
   "source": []
  },
  {
   "cell_type": "code",
   "execution_count": 19,
   "metadata": {},
   "outputs": [
    {
     "name": "stdout",
     "output_type": "stream",
     "text": [
      "[1, 2, 'D', 'E', 5]\n"
     ]
    }
   ],
   "source": [
    "l1 = [1,2,3,4,5]\n",
    "l2 = [\"A\", \"B\", \"C\", \"D\", \"E\"]\n",
    "l1[2:4] = l2[3:5]\n",
    "print(l1)"
   ]
  },
  {
   "cell_type": "code",
   "execution_count": 20,
   "metadata": {},
   "outputs": [
    {
     "name": "stdout",
     "output_type": "stream",
     "text": [
      "[0, 1, 2, 3, 4, 5, 6, 7, 8, 9, 10, 11, 12, 13, 14, 15, 16, 17, 18, 19]\n",
      "[0, 0, 0, 0, 0, 0, 0, 0, 0, 0]\n",
      "[0, 1, 0, 3, 0, 5, 0, 7, 0, 9, 0, 11, 0, 13, 0, 15, 0, 17, 0, 19]\n"
     ]
    }
   ],
   "source": [
    "x = list(range(20))\n",
    "print(x)\n",
    "y = [0] * 10\n",
    "print(y)\n",
    "# assign 0 to every even element\n",
    "x[::2] = y\n",
    "print(x)"
   ]
  },
  {
   "cell_type": "markdown",
   "metadata": {},
   "source": [
    "## Joining\n",
    "The `+` operator is **overloaded** for use with lists (or in fact any sequence). This means that using `+` on lists will join them together. Note that `+` does **not** add each elements of a lists to another; it joins two lists into a new one.\n",
    "\n",
    "Joining of sequences is called **concatenation** in computer science; the `+` operator is sometimes called the \"concatenation operator\" when used on lists."
   ]
  },
  {
   "cell_type": "code",
   "execution_count": null,
   "metadata": {},
   "outputs": [],
   "source": [
    "chinese_elements = ['earth', 'fire', 'water'] + [\"wood\", \"metal\"]\n",
    "print(chinese_elements)"
   ]
  },
  {
   "cell_type": "code",
   "execution_count": null,
   "metadata": {},
   "outputs": [],
   "source": [
    "a = [1, 2, 3]\n",
    "\n",
    "print(a + a + a)  # we can concatenate many lists"
   ]
  },
  {
   "cell_type": "markdown",
   "metadata": {},
   "source": [
    "\n",
    "# Lists in Python\n",
    "\n",
    "#### Dynamically sized\n",
    "Python lists are dynamically sized: this means you can add and remove elements as you wish, without having to declare the size of the list in advance."
   ]
  },
  {
   "cell_type": "code",
   "execution_count": null,
   "metadata": {},
   "outputs": [],
   "source": [
    "a = [1, 2, 3]\n",
    "a.append(4)  # we can just append values as we want\n",
    "print(a)"
   ]
  },
  {
   "cell_type": "code",
   "execution_count": null,
   "metadata": {},
   "outputs": [],
   "source": []
  },
  {
   "cell_type": "markdown",
   "metadata": {},
   "source": [
    "## Adding using append()\n",
    "As well as creating new lists, lists can be modified **in place**. **This is a major difference from types we have seen so far**. We can add new elements to a list with `.append()`"
   ]
  },
  {
   "cell_type": "code",
   "execution_count": 21,
   "metadata": {},
   "outputs": [
    {
     "name": "stdout",
     "output_type": "stream",
     "text": [
      "[1, 2, 3]\n"
     ]
    }
   ],
   "source": [
    "l = []\n",
    "l.append(1)\n",
    "l.append(2)\n",
    "l.append(3)\n",
    "print(l)"
   ]
  },
  {
   "cell_type": "markdown",
   "metadata": {},
   "source": [
    "This doesn't make a new list. It changes the elements of the existing list. This is a very important difference."
   ]
  },
  {
   "cell_type": "markdown",
   "metadata": {},
   "source": [
    "#####  Append is not +"
   ]
  },
  {
   "cell_type": "code",
   "execution_count": null,
   "metadata": {},
   "outputs": [],
   "source": [
    "a = [1,2,3]\n",
    "b = a+a\n",
    "print(\"b\", b)\n",
    "\n",
    "c = []\n",
    "c.append(a)\n",
    "c.append(a)\n",
    "print(\"c\", c)"
   ]
  },
  {
   "cell_type": "markdown",
   "metadata": {},
   "source": [
    "### Mutability\n",
    "Note that we have actually changed the lists using `.append()`. The property of a data structure being changeable is called **mutability** (the ability to **mutate** or change). This mutability of `list`s has important consequences, which we'll discuss below."
   ]
  },
  {
   "cell_type": "markdown",
   "metadata": {},
   "source": [
    "## Copying and references\n",
    "Let's return to the idea of **mutability**. In Python, simple types like numbers and strings are **immutable** (they cannot be changed after they have been created)."
   ]
  },
  {
   "cell_type": "code",
   "execution_count": null,
   "metadata": {},
   "outputs": [],
   "source": [
    "## integers\n",
    "a = 32\n",
    "b = a\n",
    "b = b + 1\n",
    "print(\"a=\",a)\n",
    "print(\"b=\", b)\n",
    "print()\n",
    "\n",
    "## strings\n",
    "c = \"hello\"\n",
    "d = c\n",
    "d += \" world\"\n",
    "print(\"c=\",c)\n",
    "print(\"d=\", d)"
   ]
  },
  {
   "cell_type": "markdown",
   "metadata": {},
   "source": [
    "But lists are **mutable**; they can be changed after they have been created.\n",
    "The list itself lives off in some bit of memory -- variables just **point at the** list.  They are **references** to the list that has been created.\n",
    "\n",
    "If multiple variables point at one single list then making a change to the list will appear for every variable that refers to it!"
   ]
  },
  {
   "cell_type": "code",
   "execution_count": null,
   "metadata": {},
   "outputs": [],
   "source": [
    "a = [1,2,3]\n",
    "b = a\n",
    "b.append(\"!\")\n",
    "\n",
    "# note: both a and b will be [1,2,3,\"!\"]\n",
    "# because they both refer to the *same* list\n",
    "print(\"a=\",a)\n",
    "print(\"b=\",b)"
   ]
  },
  {
   "cell_type": "markdown",
   "metadata": {},
   "source": [
    "### Copying\n",
    "If you want to work a list without affecting existing variables which refer to it, you need to make a **copy** of the list. \n",
    "\n",
    "This is true for all data structures in Python (it's true for numbers and strings too, but there is no way to modify them, so no need to ever copy them).\n",
    "\n",
    "**Handy note: slicing a list returns a new list with the same elements.**\n",
    "\n",
    "Thus, the syntax [:] (a slice taking the whole list) can be used to copy a list:"
   ]
  },
  {
   "cell_type": "code",
   "execution_count": null,
   "metadata": {},
   "outputs": [],
   "source": [
    "a = [1,2,3]\n",
    "b = a[:]          # create a new list with the same entries as are in a\n",
    "b.append(\"!\")\n",
    "\n",
    "# Now, a and b refer to *different* lists\n",
    "print(\"a=\",a)\n",
    "print(\"b=\",b)"
   ]
  },
  {
   "cell_type": "markdown",
   "metadata": {},
   "source": [
    "You can test two lists for **equality**, which tests if they have the same elements:"
   ]
  },
  {
   "cell_type": "code",
   "execution_count": null,
   "metadata": {},
   "outputs": [],
   "source": [
    "a = [1,2,3]\n",
    "b = [1,2,3]\n",
    "print(a==b)"
   ]
  },
  {
   "cell_type": "markdown",
   "metadata": {},
   "source": [
    "But if you want to test if a list is a **copy** of another, you can use the `is` operator. This tests if two variables refer to the same value, not if their elements are equal. \n",
    "\n",
    "**Make sure you understand this difference!**"
   ]
  },
  {
   "cell_type": "code",
   "execution_count": null,
   "metadata": {},
   "outputs": [],
   "source": [
    "a = [1,2,3]\n",
    "b = a      # A *reference* to a\n",
    "c = a[:]   # A *copy* of a\n",
    "\n",
    "print(\"a==b\", a==b)\n",
    "print(\"a==c\", a==c)\n",
    "print(\"a is b\", a is b)\n",
    "print(\"a is c\", a is c)"
   ]
  },
  {
   "cell_type": "code",
   "execution_count": null,
   "metadata": {},
   "outputs": [],
   "source": [
    "# This means that if we changed b, the value of a would change as well. \n",
    "# But has no effect on c, which is a separate list\n",
    "b.append(\"sentinel\")\n",
    "print(a)\n",
    "print(b) \n",
    "print(c)"
   ]
  },
  {
   "cell_type": "markdown",
   "metadata": {},
   "source": [
    "### Operators\n",
    "Operators like `+` (concatenate) return new lists and do **not** modify lists in place:"
   ]
  },
  {
   "cell_type": "code",
   "execution_count": null,
   "metadata": {},
   "outputs": [],
   "source": [
    "a = [1,2,3]\n",
    "b = [4,5,6]\n",
    "c = a + b         # c is now a new list which has the elements of a and b\n",
    "#c.append(\"!\") \n",
    "print(a)\n",
    "print(b)\n",
    "print(c)"
   ]
  },
  {
   "cell_type": "markdown",
   "metadata": {},
   "source": [
    "### Mutable vs immutable operations\n",
    "In Python, there is a simple rule:\n",
    "* If a function (e.g. `a.sort()`) changes a data structure **in place** (i.e. **mutates** it), it always returns `None`\n",
    "* If it does not change the original data structure, then it **creates an entirely new data structure** (e.g. `sorted(a)`), fills it with elements from the original list and returns the new data structure.\n",
    "* Operators like +, * etc. always return new lists, and don't modify lists in place.\n",
    "\n",
    "You should follow this convention in any code that you write!\n"
   ]
  },
  {
   "cell_type": "markdown",
   "metadata": {},
   "source": [
    "#### The * operator on lists\n",
    "Somewhat less usefully, the `*` operator is also overloaded; it repeats a list multiple times. The left operand must be a list and the right operand must be an integer:\n"
   ]
  },
  {
   "cell_type": "code",
   "execution_count": null,
   "metadata": {},
   "outputs": [],
   "source": [
    "print(a*3)   # same as a + a + a\n",
    "print(a*1)   # one repetition, same as a[:]\n",
    "print(a*0)   # empty list -- note that it is quite ok to have an empty list"
   ]
  },
  {
   "cell_type": "code",
   "execution_count": 22,
   "metadata": {},
   "outputs": [
    {
     "name": "stdout",
     "output_type": "stream",
     "text": [
      "[1, 2, 3, 4]\n",
      "[2, 5]\n"
     ]
    }
   ],
   "source": [
    "a = [1,2,3,4]\n",
    "b = a[1:3]\n",
    "b[1] = 5\n",
    "print(a)\n",
    "print(b)"
   ]
  },
  {
   "cell_type": "markdown",
   "metadata": {},
   "source": [
    "## Iterating\n",
    "One of the most common uses of a sequence data type is to do something to every element in order. For example, to sum all the numbers in a list, or to add an apostrophe to every string in a list.\n",
    "\n",
    "In Python, we use the `for` loop to iterate over lists\n",
    "\n",
    "    for element in my_list:\n",
    "        some_fn(element)\n",
    "        "
   ]
  },
  {
   "cell_type": "markdown",
   "metadata": {},
   "source": [
    "We "
   ]
  },
  {
   "cell_type": "code",
   "execution_count": 14,
   "metadata": {},
   "outputs": [
    {
     "name": "stdout",
     "output_type": "stream",
     "text": [
      "You're a duck\n",
      "You're a duck\n",
      "You're a goose\n"
     ]
    }
   ],
   "source": [
    "#There is a better way to do this\n",
    "\n",
    "birdList =  [\"duck\", \"duck\", \"goose\"]\n",
    "for i in range(len(birdList)):\n",
    "    print(\"You're a %s\" % birdList[i])"
   ]
  },
  {
   "cell_type": "markdown",
   "metadata": {},
   "source": [
    "Lists are convenient ways of grouping \n",
    "\n",
    "\n",
    "We can use the same index to iterate over 2 lists of the same length which contain related information."
   ]
  },
  {
   "cell_type": "code",
   "execution_count": null,
   "metadata": {},
   "outputs": [],
   "source": [
    "week_rainfall = [0.5, 2.5, 10.7, 2.9, 0.0, 0.0, 1.8]\n",
    "week_days = [\"Sun\", \"Mon\", \"Tue\", \"Wed\", \"Thu\", \"Fri\", \"Sat\"]\n",
    "for i in range(len(week_days)):\n",
    "    print(\"On\", week_days[i], week_rainfall[i], \"mm of rain fell\""
   ]
  },
  {
   "cell_type": "markdown",
   "metadata": {},
   "source": [
    "## Irregular iteration\n",
    "`for i in range()` is fine for numerical loops (e.g. every number from 0 to 20). But often you want to run through an iteration of an irregular sequence. Lists make this trivial:"
   ]
  },
  {
   "cell_type": "code",
   "execution_count": 15,
   "metadata": {},
   "outputs": [
    {
     "name": "stdout",
     "output_type": "stream",
     "text": [
      "You're a duck\n",
      "You're a duck\n",
      "You're a goose\n"
     ]
    }
   ],
   "source": [
    "#This is better than above\n",
    "\n",
    "birdList =  [\"duck\", \"duck\", \"goose\"]\n",
    "for bird in birdList:\n",
    "    print(\"You're a %s\" % bird)"
   ]
  },
  {
   "cell_type": "markdown",
   "metadata": {},
   "source": []
  },
  {
   "cell_type": "code",
   "execution_count": null,
   "metadata": {},
   "outputs": [],
   "source": []
  },
  {
   "cell_type": "markdown",
   "metadata": {},
   "source": [
    "Now we can re-write the average problem above using lists"
   ]
  },
  {
   "cell_type": "code",
   "execution_count": 13,
   "metadata": {},
   "outputs": [
    {
     "name": "stdout",
     "output_type": "stream",
     "text": [
      "Enter a number: 2\n",
      "Enter a number: 7\n",
      "Enter a number: 5\n",
      "Enter a number: 3\n",
      "Enter a number: 9\n",
      "The average is 5\n"
     ]
    }
   ],
   "source": [
    "numbers = [0]*5\n",
    "for num in range(len(numbers)):\n",
    "    numbers[num] = int(input(\"Enter a number: \"))\n",
    "total = 0\n",
    "for num in numbers:\n",
    "    total = total + num\n",
    "average = total//len(numbers)\n",
    "print(\"The average is %d\" %average)"
   ]
  },
  {
   "cell_type": "markdown",
   "metadata": {},
   "source": [
    "\n",
    "# Lists in Python\n",
    "\n",
    "#### Dynamically sized\n",
    "Python lists are dynamically sized: this means you can add and remove elements as you wish, without having to declare the size of the list in advance."
   ]
  },
  {
   "cell_type": "code",
   "execution_count": null,
   "metadata": {},
   "outputs": [],
   "source": [
    "a = [1, 2, 3]\n",
    "a.append(4)  # we can just append values as we want\n",
    "print(a)"
   ]
  },
  {
   "cell_type": "code",
   "execution_count": 25,
   "metadata": {},
   "outputs": [
    {
     "name": "stdout",
     "output_type": "stream",
     "text": [
      "hello there\n",
      "hello \n",
      "['hello', 'there']\n",
      "['hello', 'there']\n"
     ]
    }
   ],
   "source": [
    "word = \"hello \"\n",
    "newWord = word\n",
    "word += \"there\"\n",
    "\n",
    "print(word)\n",
    "print(newWord)\n",
    "\n",
    "wordList = [\"hello\"]\n",
    "newWordList = wordList\n",
    "wordList += [\"there\"]\n",
    "\n",
    "print(wordList)\n",
    "print(newWordList)"
   ]
  },
  {
   "cell_type": "markdown",
   "metadata": {},
   "source": [
    "#### Dynamically typed \n",
    "Like all built in Python collection types, lists don't care about what type their constituent elements are, so you can have lists of numbers, strings, other lists, or any Python data type."
   ]
  },
  {
   "cell_type": "markdown",
   "metadata": {},
   "source": [
    "Note that you can freely mix types within a single list! In Python, data types are associated with individual values (e.g. \"three\" has type string) and collection types hold collections of values, each with their own indivdual type.\n",
    "We don't have, for example, a special \"list-of-string\" type in Python -- you can mix in strings into any list."
   ]
  },
  {
   "cell_type": "markdown",
   "metadata": {},
   "source": [
    "# List operations\n",
    "\n",
    "We can do many things with lists:\n",
    "* index and slice `l[0]` `l[0:5]`\n",
    "* join `list_a + list_b`\n",
    "* add elements  `list_a.append(\"one\")`\n",
    "* remove elements `list_a.remove(\"one\")` or `del list_a[0]`\n",
    "* sort  `sorted(list_a)`\n",
    "* test for membership `elt in list_a`\n",
    "* find the index of elements `list_a.find(\"one\")`\n",
    "* copy them `list_a.copy()`"
   ]
  },
  {
   "cell_type": "code",
   "execution_count": null,
   "metadata": {},
   "outputs": [],
   "source": [
    "l = [[1,2,3], \n",
    "     [4,5,6], \n",
    "     [7,8,9]]\n",
    "\n",
    "print(l[0][0], l[0][1], l[1][0])"
   ]
  },
  {
   "cell_type": "code",
   "execution_count": null,
   "metadata": {},
   "outputs": [],
   "source": [
    "# This would be the same as doing\n",
    "# l[0][1] is just the same as\n",
    "row = l[0]\n",
    "elt = row[1]\n",
    "print(elt)"
   ]
  },
  {
   "cell_type": "markdown",
   "metadata": {},
   "source": [
    "# Lab Exercises - Lists"
   ]
  },
  {
   "cell_type": "markdown",
   "metadata": {},
   "source": [
    "## 1. Manipulating lists\n",
    "\n",
    "Before running the following snippets of code try and predict what the answer will be."
   ]
  },
  {
   "cell_type": "code",
   "execution_count": 30,
   "metadata": {},
   "outputs": [],
   "source": [
    "numbers = [2,5,4,6,8,1,3,9,7,0]"
   ]
  },
  {
   "cell_type": "markdown",
   "metadata": {},
   "source": [
    "#### A. Indexing"
   ]
  },
  {
   "cell_type": "code",
   "execution_count": 54,
   "metadata": {},
   "outputs": [],
   "source": [
    "print(numbers[0])"
   ]
  },
  {
   "cell_type": "code",
   "execution_count": 55,
   "metadata": {},
   "outputs": [],
   "source": [
    "print(numbers[3])"
   ]
  },
  {
   "cell_type": "code",
   "execution_count": 122,
   "metadata": {},
   "outputs": [],
   "source": [
    "print(numbers[9])"
   ]
  },
  {
   "cell_type": "code",
   "execution_count": 57,
   "metadata": {},
   "outputs": [],
   "source": [
    "print(numbers[-1])"
   ]
  },
  {
   "cell_type": "code",
   "execution_count": 58,
   "metadata": {},
   "outputs": [],
   "source": [
    "print(numbers[-5])"
   ]
  },
  {
   "cell_type": "code",
   "execution_count": 59,
   "metadata": {},
   "outputs": [],
   "source": [
    "# what does this print?\n",
    "\n",
    "print(len(numbers))"
   ]
  },
  {
   "cell_type": "code",
   "execution_count": null,
   "metadata": {},
   "outputs": [],
   "source": [
    "# this is an error. Why?\n",
    "\n",
    "print(numbers[10])"
   ]
  },
  {
   "cell_type": "markdown",
   "metadata": {},
   "source": [
    "#### B. Slicing"
   ]
  },
  {
   "cell_type": "code",
   "execution_count": 123,
   "metadata": {},
   "outputs": [],
   "source": [
    "print(numbers[2:4])"
   ]
  },
  {
   "cell_type": "code",
   "execution_count": 61,
   "metadata": {},
   "outputs": [],
   "source": [
    "print(numbers[-4:-2])"
   ]
  },
  {
   "cell_type": "code",
   "execution_count": 62,
   "metadata": {},
   "outputs": [],
   "source": [
    "print(numbers[0:6])"
   ]
  },
  {
   "cell_type": "code",
   "execution_count": 63,
   "metadata": {},
   "outputs": [],
   "source": [
    "print(numbers[:6])"
   ]
  },
  {
   "cell_type": "code",
   "execution_count": 64,
   "metadata": {},
   "outputs": [],
   "source": [
    "print(numbers[-4:-1])"
   ]
  },
  {
   "cell_type": "code",
   "execution_count": 65,
   "metadata": {},
   "outputs": [],
   "source": [
    "print(numbers[-4:])"
   ]
  },
  {
   "cell_type": "code",
   "execution_count": 66,
   "metadata": {},
   "outputs": [],
   "source": [
    "#This creates a copy of the list.\n",
    "\n",
    "print(numbers[:])"
   ]
  },
  {
   "cell_type": "markdown",
   "metadata": {},
   "source": [
    "#### C. Stepping"
   ]
  },
  {
   "cell_type": "code",
   "execution_count": 67,
   "metadata": {},
   "outputs": [],
   "source": [
    "print(numbers[::2])"
   ]
  },
  {
   "cell_type": "code",
   "execution_count": 68,
   "metadata": {},
   "outputs": [],
   "source": [
    "print(numbers[1::2])"
   ]
  },
  {
   "cell_type": "code",
   "execution_count": 69,
   "metadata": {},
   "outputs": [],
   "source": [
    "print(numbers[1:8:3])"
   ]
  },
  {
   "cell_type": "code",
   "execution_count": 70,
   "metadata": {},
   "outputs": [],
   "source": [
    "print(numbers[::-1])"
   ]
  },
  {
   "cell_type": "code",
   "execution_count": 71,
   "metadata": {},
   "outputs": [],
   "source": [
    "print(numbers[-4:-10:-3])"
   ]
  },
  {
   "cell_type": "markdown",
   "metadata": {},
   "source": [
    "##  2. Colours\n",
    "**Without using a loop**, using the following definition of **colours**, print out the following:\n",
    "1. The first element of  `colours`\n",
    "1. The last element of `colours`\n",
    "1. Every even element of `colours` (i.e. elements with even indices)\n",
    "1. Every odd element of `colours`\n",
    "1. The third to the sixth element of `colours`, inclusive \n",
    "1. The last five elements of colours\n",
    "1. Every third element of the first eight elements of `colours`, in reverse order (starting with the eighth element).\n"
   ]
  },
  {
   "cell_type": "code",
   "execution_count": 1,
   "metadata": {},
   "outputs": [],
   "source": [
    "colours = [\"red\", \"black\", \"orange\", \"yellow\", \n",
    "           \"blue\", \"cyan\", \"green\", \"purple\", \"gray\", \"white\"]"
   ]
  },
  {
   "cell_type": "code",
   "execution_count": null,
   "metadata": {},
   "outputs": [],
   "source": []
  },
  {
   "cell_type": "code",
   "execution_count": null,
   "metadata": {},
   "outputs": [],
   "source": []
  },
  {
   "cell_type": "code",
   "execution_count": null,
   "metadata": {},
   "outputs": [],
   "source": []
  },
  {
   "cell_type": "code",
   "execution_count": null,
   "metadata": {},
   "outputs": [],
   "source": []
  },
  {
   "cell_type": "code",
   "execution_count": null,
   "metadata": {},
   "outputs": [],
   "source": []
  },
  {
   "cell_type": "code",
   "execution_count": null,
   "metadata": {},
   "outputs": [],
   "source": []
  },
  {
   "cell_type": "code",
   "execution_count": null,
   "metadata": {},
   "outputs": [],
   "source": []
  },
  {
   "cell_type": "markdown",
   "metadata": {},
   "source": [
    "## 3. List operations"
   ]
  },
  {
   "cell_type": "markdown",
   "metadata": {},
   "source": [
    "Run the following snippets of code (you need to run all the cells and in the correct order for it work). Try to pridict what the code will do before running it."
   ]
  },
  {
   "cell_type": "code",
   "execution_count": 88,
   "metadata": {},
   "outputs": [],
   "source": [
    "a = [2,5,3]\n",
    "print(\"a: \",a)"
   ]
  },
  {
   "cell_type": "code",
   "execution_count": 108,
   "metadata": {},
   "outputs": [],
   "source": [
    "print(a[2])"
   ]
  },
  {
   "cell_type": "code",
   "execution_count": 109,
   "metadata": {},
   "outputs": [],
   "source": [
    "a[0] = 4\n",
    "print(a)"
   ]
  },
  {
   "cell_type": "code",
   "execution_count": 110,
   "metadata": {},
   "outputs": [],
   "source": [
    "b = [6,1]\n",
    "c = a + b\n",
    "print(\"a: \",a)\n",
    "print(\"b: \",b)\n",
    "print(\"c: \",c)"
   ]
  },
  {
   "cell_type": "code",
   "execution_count": 111,
   "metadata": {},
   "outputs": [],
   "source": [
    "b = b + a\n",
    "print(\"a: \",a)\n",
    "print(\"b: \",b)\n",
    "print(\"c: \",c)"
   ]
  },
  {
   "cell_type": "code",
   "execution_count": 112,
   "metadata": {},
   "outputs": [],
   "source": [
    "a = [2,5]\n",
    "b = a\n",
    "print(\"a: \",a)\n",
    "print(\"b: \",b)"
   ]
  },
  {
   "cell_type": "code",
   "execution_count": 113,
   "metadata": {},
   "outputs": [],
   "source": [
    "a.append(9)\n",
    "print(\"a: \",a)\n",
    "print(\"b: \",b)"
   ]
  },
  {
   "cell_type": "code",
   "execution_count": 114,
   "metadata": {},
   "outputs": [],
   "source": [
    "b += [7]\n",
    "print(\"a: \",a)\n",
    "print(\"b: \",b)"
   ]
  },
  {
   "cell_type": "code",
   "execution_count": 115,
   "metadata": {},
   "outputs": [],
   "source": [
    "a = a + [5]\n",
    "print(\"a: \",a)\n",
    "print(\"b: \",b)"
   ]
  },
  {
   "cell_type": "code",
   "execution_count": 116,
   "metadata": {},
   "outputs": [],
   "source": [
    "a.append(0)\n",
    "print(\"a: \",a)\n",
    "print(\"b: \",b)"
   ]
  },
  {
   "cell_type": "code",
   "execution_count": 117,
   "metadata": {},
   "outputs": [],
   "source": [
    "b = [2,2,3]\n",
    "a = b[:]\n",
    "b.append(1)\n",
    "print(\"a: \",a)\n",
    "print(\"b: \",b)"
   ]
  },
  {
   "cell_type": "code",
   "execution_count": 118,
   "metadata": {},
   "outputs": [],
   "source": [
    "c[1:4] = 8,7,6\n",
    "print(\"c: \",c)"
   ]
  },
  {
   "cell_type": "markdown",
   "metadata": {},
   "source": [
    "### Simple list operations\n",
    "You are given three lists `x,y,z`.\n",
    "\n",
    "Write code that will:\n",
    "* join the lists into one list in the order `z,x,y`, \n",
    "* and store the result in a variable `zxy`. \n",
    "* then create a *copy* of `zxy` and call it `zxy_copy`. \n",
    "* Append the string `\"in the sunshine\"` to the end of `zxy_copy`."
   ]
  },
  {
   "cell_type": "code",
   "execution_count": null,
   "metadata": {},
   "outputs": [],
   "source": [
    "# These are the lists you are given\n",
    "x = [1,2,3]\n",
    "y = [0,0,0]\n",
    "z = [1,9,6,9]"
   ]
  },
  {
   "cell_type": "code",
   "execution_count": null,
   "metadata": {},
   "outputs": [],
   "source": []
  },
  {
   "cell_type": "code",
   "execution_count": null,
   "metadata": {},
   "outputs": [],
   "source": []
  },
  {
   "cell_type": "code",
   "execution_count": null,
   "metadata": {},
   "outputs": [],
   "source": []
  },
  {
   "cell_type": "code",
   "execution_count": null,
   "metadata": {},
   "outputs": [],
   "source": []
  }
 ],
 "metadata": {
  "kernelspec": {
   "display_name": "Python 3",
   "language": "python",
   "name": "python3"
  },
  "language_info": {
   "codemirror_mode": {
    "name": "ipython",
    "version": 3
   },
   "file_extension": ".py",
   "mimetype": "text/x-python",
   "name": "python",
   "nbconvert_exporter": "python",
   "pygments_lexer": "ipython3",
   "version": "3.8.3"
  }
 },
 "nbformat": 4,
 "nbformat_minor": 2
}
