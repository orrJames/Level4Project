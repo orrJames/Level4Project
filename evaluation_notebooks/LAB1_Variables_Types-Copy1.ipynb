{
 "cells": [
  {
   "cell_type": "markdown",
   "metadata": {},
   "source": [
    "# Lab 1: Variables, Types, Operators and Expressions"
   ]
  },
  {
   "cell_type": "markdown",
   "metadata": {},
   "source": [
    "## Remember\n",
    "\n",
    "You have the reflective tool bar enabled.  This means that you can record your time spent, write reflective notes, and update how you are feeling.  Please start the timer when you open this Notebook and click the save button when you are finished. Use the reflective note button to add notes throughout.  I would also recommend using the emotion selector at the start and end of the lab.  Once finished with the Notebook, click the lightning bolt button on the tool bar to complete your evaluation and reflections. Always remember to input the correct lab number when asked. \n"
   ]
  },
  {
   "cell_type": "markdown",
   "metadata": {},
   "source": [
    "##### A computer is a machine (mostly electronic) that is able to take information (input), and process it to make new information (output)."
   ]
  },
  {
   "cell_type": "markdown",
   "metadata": {},
   "source": [
    "**Comments**\n",
    "\n",
    "Comments are universal in programming languages. They allow the programmer to insert their own annotations inline with the code.\n",
    "\n",
    "In Python, comments begin with a hash symbol `#` and continute until the end of a line. Python ignores everything after the `#` until the line ends.\n",
    "\n",
    "Comments are used.....\n",
    "\n",
    "    To document code.\n",
    "    To explain potential problems.\n",
    "    To *temporarily* disable code"
   ]
  },
  {
   "cell_type": "code",
   "execution_count": 11,
   "metadata": {},
   "outputs": [],
   "source": [
    "# This is a comment"
   ]
  },
  {
   "cell_type": "code",
   "execution_count": 16,
   "metadata": {},
   "outputs": [
    {
     "name": "stdout",
     "output_type": "stream",
     "text": [
      "This is not a comment. This is a Python print statment. You can edit me!\n"
     ]
    }
   ],
   "source": [
    "print(\"This is not a comment. This is a Python print statment. You can edit me!\")"
   ]
  },
  {
   "cell_type": "markdown",
   "metadata": {},
   "source": [
    "**Variables**\n",
    "\n",
    "Variables are the base of any programme. They are simple containers to save, access and use data values."
   ]
  },
  {
   "cell_type": "code",
   "execution_count": 15,
   "metadata": {},
   "outputs": [],
   "source": [
    "x = 4\n",
    "y = \"hello\"\n",
    "z = 5.0\n",
    "i = '2'"
   ]
  },
  {
   "cell_type": "markdown",
   "metadata": {},
   "source": [
    "Use the print statement from the above example to print each variable (x,y,z,i)"
   ]
  },
  {
   "cell_type": "code",
   "execution_count": null,
   "metadata": {},
   "outputs": [],
   "source": [
    "# Write your code here"
   ]
  },
  {
   "cell_type": "markdown",
   "metadata": {},
   "source": [
    "How the computer processes the informtation depends on the type of data.\n",
    "\n",
    "##  Data Types\n",
    "\n",
    "In Python some of the standard **data types** include:\n",
    "* strings \n",
    "* integers \n",
    "* floating-point numbers \n",
    "* booleans \n",
    "\n",
    "All other data structures are built using these primitive data types.\n",
    "\n",
    "The **data type** determines the set of **values** and the **operations** that are permitted."
   ]
  },
  {
   "cell_type": "markdown",
   "metadata": {},
   "source": [
    "### Data Values\n",
    "This is the set of all premissable values for a type.\n",
    "\n",
    "* strings - A sequence of characters surrounded by double quotes `\"` or single quotes `'` - `\"Hello\"`,`'Summer School'`,`\"*$!??\"`\n",
    "* integers - Any whole number both positive and negative - `5`,`179`,`-23`\n",
    "* floating-point numbers - Any real number -`0.5`,`100.0`, `-2.578`\n",
    "* booleans - Only two values - `True` and `False` (**note the capitalisation in Python!**)\n"
   ]
  },
  {
   "cell_type": "markdown",
   "metadata": {},
   "source": [
    "If you are unsure what type a value `x` is you can find out using the type() funtction.\n",
    "\n",
    "`type(x)` is a function that returns the type of x. `print()` prints the result below the box (cell) of code.\n",
    "\n",
    "    print(type(5))\n",
    "    \n",
    "will print out the type of the value `5`"
   ]
  },
  {
   "cell_type": "markdown",
   "metadata": {},
   "source": [
    "#### <font color=\"red\"> To run the code below, click on the box (cell) and press CTRL-ENTER.</font>"
   ]
  },
  {
   "cell_type": "code",
   "execution_count": 1,
   "metadata": {},
   "outputs": [
    {
     "name": "stdout",
     "output_type": "stream",
     "text": [
      "<class 'int'>\n"
     ]
    }
   ],
   "source": [
    "print(type(5))"
   ]
  },
  {
   "cell_type": "code",
   "execution_count": 2,
   "metadata": {},
   "outputs": [
    {
     "name": "stdout",
     "output_type": "stream",
     "text": [
      "<class 'str'>\n"
     ]
    }
   ],
   "source": [
    "print(type(\"5\"))"
   ]
  },
  {
   "cell_type": "code",
   "execution_count": 3,
   "metadata": {},
   "outputs": [
    {
     "name": "stdout",
     "output_type": "stream",
     "text": [
      "<class 'float'>\n"
     ]
    }
   ],
   "source": [
    "print(type(5.0))"
   ]
  },
  {
   "cell_type": "code",
   "execution_count": 4,
   "metadata": {},
   "outputs": [
    {
     "name": "stdout",
     "output_type": "stream",
     "text": [
      "<class 'bool'>\n"
     ]
    }
   ],
   "source": [
    "print(type(True))"
   ]
  },
  {
   "cell_type": "markdown",
   "metadata": {},
   "source": [
    "In the empty cell below, print the type of the following values:\n",
    "\n",
    "    5\n",
    "    5.0\n",
    "    \"hello\"\n",
    "    'hello world!!'\n",
    "    False\n",
    "    \"False\"\n",
    "    false\n",
    "    print\n",
    "    None"
   ]
  },
  {
   "cell_type": "code",
   "execution_count": null,
   "metadata": {},
   "outputs": [],
   "source": [
    "# Write your code here"
   ]
  },
  {
   "cell_type": "code",
   "execution_count": 6,
   "metadata": {},
   "outputs": [],
   "source": [
    "%load_ext autoreload\n",
    "%autoreload 2\n",
    "%run C:\\Users\\orrja\\uni\\Level4\\Level4Project\\reflective_note\\reflective_note"
   ]
  },
  {
   "cell_type": "markdown",
   "metadata": {},
   "source": [
    "#### Converting types\n",
    "If the data is compatable, it may be possible to covert data from one type to another using the following methods.\n",
    "\n",
    "In Python, basic functions that do type conversions are:\n",
    "* `int(x)` convert x to an integer\n",
    "* `float(x)` convert x to a floating-point number\n",
    "* `str(x)` convert x to a string\n",
    "\n",
    "Note that these functions **do not** alter the original value -- they create completely new values and set them according to the value you gave them. They can take strings, but can also take integers, floats or other number values.\n",
    "\n",
    "**It is an error to pass a string not interpretable as a number to the conversion functions.**"
   ]
  },
  {
   "cell_type": "code",
   "execution_count": null,
   "metadata": {},
   "outputs": [],
   "source": [
    "# converts the integer 8 to the string 8.\n",
    "\n",
    "(str(8))"
   ]
  },
  {
   "cell_type": "code",
   "execution_count": null,
   "metadata": {},
   "outputs": [],
   "source": [
    "# converts the string 2 to the integer 2.\n",
    "\n",
    "int(\"2\")"
   ]
  },
  {
   "cell_type": "code",
   "execution_count": null,
   "metadata": {},
   "outputs": [],
   "source": [
    "# converts the integer -32 to the float -32.\n",
    "\n",
    "float(-32)"
   ]
  },
  {
   "cell_type": "code",
   "execution_count": null,
   "metadata": {},
   "outputs": [],
   "source": [
    "# This is allowed.\n",
    "\n",
    "int(6.5)"
   ]
  },
  {
   "cell_type": "code",
   "execution_count": 9,
   "metadata": {},
   "outputs": [
    {
     "ename": "ValueError",
     "evalue": "invalid literal for int() with base 10: 'hi'",
     "output_type": "error",
     "traceback": [
      "\u001b[1;31m---------------------------------------------------------------------------\u001b[0m",
      "\u001b[1;31mValueError\u001b[0m                                Traceback (most recent call last)",
      "\u001b[1;32m<ipython-input-9-d84956ee3b1c>\u001b[0m in \u001b[0;36m<module>\u001b[1;34m\u001b[0m\n\u001b[0;32m      1\u001b[0m \u001b[1;31m# But this is not. Makes no sense can not convert the string \"hi\" to an integer value.\u001b[0m\u001b[1;33m\u001b[0m\u001b[1;33m\u001b[0m\u001b[1;33m\u001b[0m\u001b[0m\n\u001b[0;32m      2\u001b[0m \u001b[1;33m\u001b[0m\u001b[0m\n\u001b[1;32m----> 3\u001b[1;33m \u001b[0mint\u001b[0m\u001b[1;33m(\u001b[0m\u001b[1;34m\"hi\"\u001b[0m\u001b[1;33m)\u001b[0m\u001b[1;33m\u001b[0m\u001b[1;33m\u001b[0m\u001b[0m\n\u001b[0m",
      "\u001b[1;31mValueError\u001b[0m: invalid literal for int() with base 10: 'hi'"
     ]
    }
   ],
   "source": [
    "# But this is not. Makes no sense can not convert the string \"hi\" to an integer value.\n",
    "\n",
    "int(\"hi\")"
   ]
  },
  {
   "cell_type": "markdown",
   "metadata": {},
   "source": [
    "## Operators\n",
    "\n",
    "Each type defines a set of operators that can be used with the values of that type. "
   ]
  },
  {
   "cell_type": "markdown",
   "metadata": {},
   "source": [
    "**Arithmetic operators - integer and float**\n",
    "\n",
    "We have the standard arithmetic operators `+, -, *, /`.\n",
    "\n",
    "There are a couple of other useful ones as well: \n",
    "* `**`, which is exponentation. `2**8` is `256`\n",
    "* '%', which is modulus (remainder). 15 % 4 is 3.\n",
    "* '//', which is **integer division**. 5/2 is 2.5, but 5//2 is 2\n"
   ]
  },
  {
   "cell_type": "markdown",
   "metadata": {},
   "source": [
    "**String operators**\n",
    "\n",
    "For strings, only `+` and `*` work (and `%` which we will see later). `+` joins two strings and `*` repeats a string."
   ]
  },
  {
   "cell_type": "markdown",
   "metadata": {},
   "source": [
    "**Boolean operators**\n",
    "\n",
    "Any expression that evaluates to a **boolean result** (either True or False), can be manipulated using the `and` `or` and `not` operators. \n",
    "* `not` flips the operand following from True to False or vice versa\n",
    "* `and` is True if both operands are True\n",
    "* `or` is True if either operand is True.\n"
   ]
  },
  {
   "cell_type": "markdown",
   "metadata": {},
   "source": [
    "**General Operators**\n",
    "\n",
    "*Equality*\n",
    "\n",
    "We can test values for equality using `==` (note the double equals!). "
   ]
  },
  {
   "cell_type": "code",
   "execution_count": null,
   "metadata": {},
   "outputs": [],
   "source": [
    "print(\"same\" == \"same\")\n",
    "print(\"same\" == \"different\")\n",
    "print(5 == \"5\")\n",
    "print(4 == 4.0)"
   ]
  },
  {
   "cell_type": "markdown",
   "metadata": {},
   "source": [
    "*Not equal to*\n",
    "\n",
    "!= is the opposite of =="
   ]
  },
  {
   "cell_type": "code",
   "execution_count": null,
   "metadata": {
    "collapsed": true
   },
   "outputs": [],
   "source": [
    "print(\"same\" != \"same\")\n",
    "print(\"same\" != \"different\")\n",
    "print(not(\"same\" == \"same\"))"
   ]
  },
  {
   "cell_type": "markdown",
   "metadata": {},
   "source": [
    "*Ordering comparisons*\n",
    "\n",
    "The standard operators \n",
    "\n",
    "    > (greater than)\n",
    "    >= (greater than or equal to) \n",
    "    < (less than) \n",
    "    <= (less than or equal to) \n",
    "    \n",
    "    allow you to compare the ordering of values."
   ]
  },
  {
   "cell_type": "code",
   "execution_count": 17,
   "metadata": {},
   "outputs": [
    {
     "name": "stdout",
     "output_type": "stream",
     "text": [
      "True\n",
      "False\n",
      "True\n",
      "False\n",
      "True\n"
     ]
    }
   ],
   "source": [
    "print(3>1)\n",
    "print(6<5)\n",
    "print(6>=6)\n",
    "print(6>6)\n",
    "print(5+4==3*3)"
   ]
  },
  {
   "cell_type": "markdown",
   "metadata": {},
   "source": [
    "They also work for strings, in which case Python will compare the strings in **lexicographic** (dictionary order)."
   ]
  },
  {
   "cell_type": "code",
   "execution_count": null,
   "metadata": {},
   "outputs": [],
   "source": [
    "print('a'<'z')\n",
    "print ('a'<'Z')  #case sensitive\n",
    "print(\"Aardvark\" < \"Zebra\")\n",
    "print(\"aaa\" < \"aab\")\n",
    "print(\"aaa\" < \"aaa\") # aaa is *equal* to aaa, so cannot be < than"
   ]
  },
  {
   "cell_type": "markdown",
   "metadata": {},
   "source": [
    "#### Comparisions only work between comparable types\n",
    "Be very careful to compare values of the same type. Python will usually not let you do things like compare a number to a string, but there are exceptions."
   ]
  },
  {
   "cell_type": "code",
   "execution_count": null,
   "metadata": {},
   "outputs": [],
   "source": [
    "# what does this even mean?!\n",
    "print(\"no\" > False)"
   ]
  },
  {
   "cell_type": "markdown",
   "metadata": {},
   "source": [
    "**Standard Python operators**\n",
    "\n",
    "These are all valid operators in Python:\n",
    "\n",
    "    lambda                  Lambda expression\n",
    "    or                      Boolean OR\n",
    "    and                     Boolean AND\n",
    "    not x                   Boolean NOT\n",
    "    in, not in              Membership tests\n",
    "    is, is not              Identity tests\n",
    "    <, <=, >, >=, !=, ==    Comparisons\n",
    "    |                       Bitwise OR\n",
    "    ^                       Bitwise XOR\n",
    "    &                       Bitwise AND\n",
    "    <<, >>                  Bitwise Shifts\n",
    "    +, -                    Addition and subtraction\n",
    "    *, /, %                 Multiplication, Division and Remainder\n",
    "    +x, -x                  Positive, Negative\n",
    "    ~x                      Bitwise NOT\n",
    "    **                      Exponentiation\n",
    "    x.attribute             Attribute reference\n",
    "    x[index]                Indexing\n",
    "    x[index:index]          Slicing\n",
    "    f(arguments ...)        Function call\n",
    "    (expressions, ...)      Binding or tuple display\n",
    "    [expressions, ...]      List display\n",
    "    {key:datum, ...}        Dictionary display\n",
    "    \n",
    "    \n",
    "Many of these you will not have seen before, but the key arithmetic operators are in the middle of the table.  "
   ]
  },
  {
   "cell_type": "markdown",
   "metadata": {},
   "source": [
    "## Expressions\n",
    "**Expressions** are sequences of code that produce (or **return**) a value. For example, these are all expressions:\n",
    "\n",
    "    5\n",
    "    2 + 3\n",
    "    \"a sensible string\"\n",
    "    94 / 8 * 31"
   ]
  },
  {
   "cell_type": "markdown",
   "metadata": {},
   "source": [
    "Operators, operands, operations\n",
    "Operators are elements of expressions that do some operation (for example, add two numbers). They take operands, which are the values they operate upon.\n",
    "\n",
    "    Operator examples\n",
    "       8 + 9\n",
    "        operands: 8, 9\n",
    "        operator: + [binary]\n",
    "        operation: addition\n",
    "\n",
    "      \"first\" + \"last\"\n",
    "          operands: \"first\", \"last\"\n",
    "          operator: + [binary]\n",
    "          operation: concatenation (string joining)\n",
    "\n",
    "      8 - 9\n",
    "          operands: 8, 9\n",
    "          operator: - [binary]\n",
    "          operation: subtraction\n",
    "\n",
    "      -9\n",
    "          operands: 9\n",
    "          operator: - [unary]\n",
    "          operation: negation\n",
    "      \n",
    "          operator: ** [binary]\n",
    "          operation: exponentiation\n",
    "\n",
    "      is_alive and is_kicking\n",
    "         operands: is_alive, is_kicking\n",
    "         operator: and [binary]\n",
    "         operation: logical/boolean and\n",
    "\n",
    "     2 ** 8\n",
    "          operands: 2,8"
   ]
  },
  {
   "cell_type": "markdown",
   "metadata": {},
   "source": [
    "**Precedence**\n",
    "\n",
    "Python follows essentially the normal precedence rules from school algebra (PEMDAS -- parenthesis, exponentiation, multiplication, division, addition, subtraction). \n",
    "\n",
    "But there are quite a number of extra operators provided with Python. All operators have a precedence, which is the order the appear in the table above. *Operators with equal precedence (like +, -) are ordered from left to right*.\n",
    "\n",
    "An operator with higher precedence is said to **bind tighter** than one with lower precedence, because it \"binds\" onto its operands more tightly. Multiplication, for example, binds tighter than addition."
   ]
  },
  {
   "cell_type": "markdown",
   "metadata": {},
   "source": [
    "#### When operators have equal precedence, the evaluation rule from left to right:"
   ]
  },
  {
   "cell_type": "code",
   "execution_count": null,
   "metadata": {},
   "outputs": [],
   "source": [
    " 10 + 4 * 5\n",
    "# 5 is \"bound tighter\" to 4 than to 10"
   ]
  },
  {
   "cell_type": "markdown",
   "metadata": {},
   "source": [
    "**( x + 1 ) * 2**\n",
    "\n",
    "Putting an expression in parenthesis (round brackets) forces Python to evaluate the expression inside the brackets before applying any further operators. This can be used to override the default precedence:"
   ]
  },
  {
   "cell_type": "code",
   "execution_count": null,
   "metadata": {},
   "outputs": [],
   "source": [
    " (10 + 4) * 5\n",
    "# 5 is \"bound tighter\" to 4 than to 10"
   ]
  },
  {
   "cell_type": "markdown",
   "metadata": {},
   "source": [
    "**Using parentheses**\n",
    "\n",
    "If you're in any doubt about the order in which operators will act, then use parentheses to be unambiguous. Everything within parenthesis is evaluated **before any other operation** which applies to it.\n",
    "\n",
    "    x + 2 * y         # compute 2*y, adds x\n",
    "    (x + 2) * y       # computes x+2, multiplies by y\n",
    "    ((x+4)*(y-2))//8  # computes x+4, y-2\n",
    "                      # multiplies results together\n",
    "                      # computes integer division on the result.\n"
   ]
  },
  {
   "cell_type": "code",
   "execution_count": null,
   "metadata": {
    "collapsed": true
   },
   "outputs": [],
   "source": [
    "# I don't remember the order these will be applied in\n",
    "# [don't worry, you don't need to know what these operators do at this point!]\n",
    "print(21 & 15 << 4 ^ 317)"
   ]
  },
  {
   "cell_type": "code",
   "execution_count": null,
   "metadata": {
    "collapsed": true
   },
   "outputs": [],
   "source": [
    "# this is much clearer (and wasn't the default order!)\n",
    "print(((21 & 15) << 4)  ^ 317)"
   ]
  },
  {
   "cell_type": "code",
   "execution_count": null,
   "metadata": {
    "collapsed": true
   },
   "outputs": [],
   "source": [
    "# run this code\n",
    "\n",
    "print(\"hello world\")"
   ]
  },
  {
   "cell_type": "code",
   "execution_count": null,
   "metadata": {
    "collapsed": true
   },
   "outputs": [],
   "source": [
    "# change the code to print your name instead of world\n",
    "\n"
   ]
  },
  {
   "cell_type": "code",
   "execution_count": null,
   "metadata": {
    "collapsed": true
   },
   "outputs": [],
   "source": [
    "#correct the error in this code.\n",
    "\n",
    "print('This creates an error\")"
   ]
  },
  {
   "cell_type": "markdown",
   "metadata": {},
   "source": [
    "Print out the following statement exactly as it is. \n",
    "\n",
    "    Glasgow University says \"Welcome to python!\"\n",
    " \n",
    "*hint: How did you correct the code above*"
   ]
  },
  {
   "cell_type": "code",
   "execution_count": null,
   "metadata": {
    "collapsed": true
   },
   "outputs": [],
   "source": [
    "# Write your code here"
   ]
  },
  {
   "cell_type": "markdown",
   "metadata": {},
   "source": [
    "**Overloaded operators**\n",
    "\n",
    "It's important to distinguish the symbols used for operators (like `+, -, *`) from the **operations** they apply. In Python,\n",
    "one operator symbol can have many meanings, depending on what value (operand) it is applied to. For example:\n",
    "\n",
    "    2 + 3\n",
    "    >>> 5\n",
    "    \n",
    "    \"first\" + \"last\"\n",
    "    >>> firstlast\n",
    "    \n",
    "In the first case, the `+` symbol meant *integer addition*. In the second case, `+` meant *string concatenation* (joining). Python looks at the types of the operands and decides what operation to apply when it sees an operator symbol. If there is no set of matching types, an error occurs.\n",
    "\n",
    "You can see this if you try to make a malformed expression:"
   ]
  },
  {
   "cell_type": "markdown",
   "metadata": {},
   "source": [
    "*The operation done depends on the operator **and** the type of the  operands.*"
   ]
  },
  {
   "cell_type": "markdown",
   "metadata": {},
   "source": [
    "**Typing**\n",
    "\n",
    "How does Python know what to do when it gets an operator? For example, compare:"
   ]
  },
  {
   "cell_type": "code",
   "execution_count": null,
   "metadata": {
    "collapsed": true
   },
   "outputs": [],
   "source": [
    "## plus is used on numbers\n",
    "age = 50 + 50\n",
    "\n",
    "## plus is used on strings\n",
    "name = \"first\" + \"last\"\n",
    "\n",
    "print(age, name)"
   ]
  },
  {
   "cell_type": "code",
   "execution_count": null,
   "metadata": {
    "collapsed": true
   },
   "outputs": [],
   "source": [
    "## This is not allowed though: \n",
    "## plus used on strings and numbers\n",
    "\"henry\" + 8"
   ]
  },
  {
   "cell_type": "markdown",
   "metadata": {},
   "source": [
    "## Statements\n",
    "Statements are sequences of code that **do** something. \n",
    "\n",
    "So far the only statement we have seen is the `print()` statement. The print statement evaluates the expression in the () and prints the result to the screen. This is very limited, in order to alter the values in the expression we need to change the code.\n",
    "\n",
    "What if we want to ask the user to supply the values for the expression we wish to evalutate. We can use the `input()` statement."
   ]
  },
  {
   "cell_type": "markdown",
   "metadata": {},
   "source": [
    "#### Input\n",
    "`input()` will read one line of text from the keyboard. It always returns a string value.\n",
    "`input()` can take a string which it displays as a prompt.\n"
   ]
  },
  {
   "cell_type": "code",
   "execution_count": null,
   "metadata": {},
   "outputs": [],
   "source": [
    "print(\"hello \" + input(\"What is your name? \"))"
   ]
  },
  {
   "cell_type": "markdown",
   "metadata": {},
   "source": [
    "After the print statement this program has no means of accessing the name input again. In order to remember what name was input we must give the input a label. This label is known as a variable (its value `varies` depending on what name is input). In future when we refer to the variable, the variable is replaced with the string that was input."
   ]
  },
  {
   "cell_type": "code",
   "execution_count": null,
   "metadata": {},
   "outputs": [],
   "source": [
    "#the label `name` is a variable which will refer to the input string when used. \n",
    "\n",
    "name = input(\"What is your name? \")\n",
    "print(\"Hello \", name)\n",
    "print(name, \"I hope you are enjoying python.\")"
   ]
  },
  {
   "cell_type": "markdown",
   "metadata": {},
   "source": [
    "#### Variables.\n",
    "Variables are not limited to `input()` statments. Variables are labels that can be assigend a value. When a variable is used in an expression it is replaced by the value it refers to. Labels in programming are more commonly known referred to as identifers.\n"
   ]
  },
  {
   "cell_type": "markdown",
   "metadata": {},
   "source": [
    "#### Identifiers\n",
    "**Identifiers** are names that we can give to variables. There are specific rules that have to be followed:\n",
    "\n",
    "* Identifiers must start with a letter or _ (underscore)\n",
    "* They must consist only of letters, numbers or underscores\n",
    "* They must not be the same as any reserved keywords\n",
    "\n",
    "There are a small number of reserved keywords in Python, like `if, while, for, return` and a few others. Your variables cannot have these as names.\n",
    "\n",
    "These rules ensure that you can't call a variable `a*b` and then be confused when `a*b` does not multiply `a` and `b` together. \n",
    "\n",
    "Python is case sensitive, and the case of identifiers matters! `var` does *not* refer to the same variable as `VAR` or `vAr`."
   ]
  },
  {
   "cell_type": "markdown",
   "metadata": {},
   "source": [
    "#### Assignment\n",
    "The process of binding an identifer to a value is called **assignment**. Assignment is notated with a single `=` sign in Python. Variables are **not** declared in advance of use. Assigning instantly binds a name to a value.\n"
   ]
  },
  {
   "cell_type": "markdown",
   "metadata": {},
   "source": [
    "A statement that binds a value to a name is called an **assigment statement**. This creates or updates **a variable**. \n",
    "\n",
    "An assignment has a **left hand side** (before the =) and a **right hand side** (after the =).\n",
    "\n",
    "    speed_limit = 70\n",
    "    [lhs]       = [rhs]\n",
    "    \n",
    "Any expression can be in **rhs**. The **lhs** must refer to a variable that can be bound. "
   ]
  },
  {
   "cell_type": "markdown",
   "metadata": {},
   "source": [
    "Expressions occur as **parts** of statements, such as on the right hand side of an assignment:\n",
    "\n",
    "     statement\n",
    "    |---------|\n",
    "     x = x + 5\n",
    "         |----| expression"
   ]
  },
  {
   "cell_type": "markdown",
   "metadata": {},
   "source": [
    "## Assignment operators\n",
    "As well as plain old `=` (meaning \"assign right hand side to left hand side\"), we have convenience operators in Python to update the value of variables.\n",
    "\n",
    "For example:\n",
    "\n",
    "    var = var + val\n",
    "    \n",
    "can be written as\n",
    "    \n",
    "    var += val\n",
    "    \n",
    "This reduces the amount of repetition in the code, and makes it clearer that we are updating a variable, rather than giving it a totally new value.    \n",
    "        \n",
    "In this case `+=` means *evaluate the right hand side and add it to the variable on the left hand side.  The standard arithmetic operators all have assignment operators:\n",
    "\n",
    "    +=\n",
    "    -=\n",
    "    *=\n",
    "    /=\n",
    "    %="
   ]
  },
  {
   "cell_type": "code",
   "execution_count": null,
   "metadata": {},
   "outputs": [],
   "source": [
    "x = 5\n",
    "print(x)"
   ]
  },
  {
   "cell_type": "code",
   "execution_count": null,
   "metadata": {},
   "outputs": [],
   "source": [
    "y = 7\n",
    "print(y)"
   ]
  },
  {
   "cell_type": "code",
   "execution_count": null,
   "metadata": {
    "collapsed": true
   },
   "outputs": [],
   "source": [
    "print(x+y)"
   ]
  },
  {
   "cell_type": "code",
   "execution_count": null,
   "metadata": {},
   "outputs": [],
   "source": [
    "z = x * y\n",
    "print(z)"
   ]
  },
  {
   "cell_type": "code",
   "execution_count": null,
   "metadata": {},
   "outputs": [],
   "source": [
    "x = \"hi\"\n",
    "print(x)"
   ]
  },
  {
   "cell_type": "code",
   "execution_count": null,
   "metadata": {},
   "outputs": [],
   "source": [
    "y = y + 1\n",
    "print(y)"
   ]
  },
  {
   "cell_type": "code",
   "execution_count": null,
   "metadata": {},
   "outputs": [],
   "source": [
    "y+=2\n",
    "print(y)"
   ]
  },
  {
   "cell_type": "code",
   "execution_count": null,
   "metadata": {},
   "outputs": [],
   "source": [
    "print(x * y)"
   ]
  },
  {
   "cell_type": "code",
   "execution_count": null,
   "metadata": {},
   "outputs": [],
   "source": [
    "a = x\n",
    "print(a)"
   ]
  },
  {
   "cell_type": "code",
   "execution_count": null,
   "metadata": {},
   "outputs": [],
   "source": [
    "x = \"hello\"\n",
    "print(\"x: \",x,\"a: \",a)"
   ]
  },
  {
   "cell_type": "code",
   "execution_count": null,
   "metadata": {},
   "outputs": [],
   "source": [
    "b = y\n",
    "print(\"y: \",y,\"b: \",b)"
   ]
  },
  {
   "cell_type": "code",
   "execution_count": null,
   "metadata": {},
   "outputs": [],
   "source": [
    "y = y//2\n",
    "print(\"y: \",y,\"b: \",b)"
   ]
  },
  {
   "cell_type": "code",
   "execution_count": null,
   "metadata": {},
   "outputs": [],
   "source": [
    "#This worked above because both x and y variables referred to interger values.\n",
    "#Now the x variable refers to a string.\n",
    "#This causes an error as there is no operation + that takes a sting and an int.\n",
    "\n",
    "print(x+y)"
   ]
  },
  {
   "cell_type": "markdown",
   "metadata": {},
   "source": [
    "## <center> <font color=\"red\"> In python values have types, not variables </font> </center>\n",
    "\n",
    "You may have seen languages where the type of a variable must be **declared** before it is used, and it can then only hold values of that declared type:\n",
    "\n",
    "    // A C-like language\n",
    "    int age;\n",
    "    age = 5;\n",
    "    \n",
    "    String mood_state;\n",
    "    mood_state = \"angry\";\n",
    "        \n",
    "and statements like\n",
    "\n",
    "    mood_state = 5;\n",
    "\n",
    "would be an error.\n",
    "\n",
    "**This is not the case in Python!** Values have types, and a variable is simply a *binding* of a name to a value. \n",
    "\n",
    "#### Static typing\n",
    "The **static typing** model (C-like languages) has variables as \"slots\" of different shapes, which, once created, only that type will fit into.\n",
    "\n",
    "#### Dynamic typing\n",
    "The **dynamic typing** model has values that know their own type, and live on their own as complete objects somewhere in memory. Assigning them to a variable just tells the interpreter to refer to that object with the given name."
   ]
  },
  {
   "cell_type": "markdown",
   "metadata": {},
   "source": [
    "## Programs \n",
    "A Python program is a sequence of statements. Each statement performs an action.\n",
    "Expressions can form parts of statements; for example, the right-hand side of an assignment of a variable **must** be an expression. \n"
   ]
  },
  {
   "cell_type": "code",
   "execution_count": null,
   "metadata": {
    "collapsed": true
   },
   "outputs": [],
   "source": [
    "# valid, 50 is an expression\n",
    "age = 50 \n",
    "\n",
    "# valid, age + 1 is an expression\n",
    "age = age + 1\n",
    "\n",
    "print(age)\n",
    "\n",
    "# valid, \"hungry\" is a valid expression\n",
    "mood_state = \"hungry\""
   ]
  },
  {
   "cell_type": "markdown",
   "metadata": {},
   "source": [
    "## Python\n",
    "Python is an interpreted language. It does not compile code directly to machine code in one go. Instead it interprets one step at a time.\n",
    "\n",
    "This gives great flexibility in terms of what Python can do, but it means that many checks that programs will behave sensibly cannot be done until code actually runs.\n",
    "\n",
    "As we will see, Python is dynamically typed. This means it does not check that variables or values have appropriate types for operations until those operations actually happen. Python will happily try to add a number to a string if you do this:"
   ]
  },
  {
   "cell_type": "code",
   "execution_count": 1,
   "metadata": {},
   "outputs": [
    {
     "name": "stdout",
     "output_type": "stream",
     "text": [
      "This will happen\n"
     ]
    },
    {
     "ename": "TypeError",
     "evalue": "unsupported operand type(s) for +: 'int' and 'str'",
     "output_type": "error",
     "traceback": [
      "\u001b[1;31m---------------------------------------------------------------------------\u001b[0m",
      "\u001b[1;31mTypeError\u001b[0m                                 Traceback (most recent call last)",
      "\u001b[1;32m<ipython-input-1-32d11fc5c5f8>\u001b[0m in \u001b[0;36m<module>\u001b[1;34m\u001b[0m\n\u001b[0;32m      1\u001b[0m \u001b[0mprint\u001b[0m\u001b[1;33m(\u001b[0m\u001b[1;34m\"This will happen\"\u001b[0m\u001b[1;33m)\u001b[0m\u001b[1;33m\u001b[0m\u001b[1;33m\u001b[0m\u001b[0m\n\u001b[1;32m----> 2\u001b[1;33m \u001b[1;36m2\u001b[0m \u001b[1;33m+\u001b[0m \u001b[1;34m\"two\"\u001b[0m\u001b[1;33m\u001b[0m\u001b[1;33m\u001b[0m\u001b[0m\n\u001b[0m\u001b[0;32m      3\u001b[0m \u001b[0mprint\u001b[0m\u001b[1;33m(\u001b[0m\u001b[1;34m\"This will not happen\"\u001b[0m\u001b[1;33m)\u001b[0m\u001b[1;33m\u001b[0m\u001b[1;33m\u001b[0m\u001b[0m\n",
      "\u001b[1;31mTypeError\u001b[0m: unsupported operand type(s) for +: 'int' and 'str'"
     ]
    }
   ],
   "source": [
    "print(\"This will happen\")\n",
    "2 + \"two\"\n",
    "print(\"This will not happen\")"
   ]
  }
 ],
 "metadata": {
  "kernelspec": {
   "display_name": "Python 3",
   "language": "python",
   "name": "python3"
  },
  "language_info": {
   "codemirror_mode": {
    "name": "ipython",
    "version": 3
   },
   "file_extension": ".py",
   "mimetype": "text/x-python",
   "name": "python",
   "nbconvert_exporter": "python",
   "pygments_lexer": "ipython3",
   "version": "3.8.3"
  }
 },
 "nbformat": 4,
 "nbformat_minor": 2
}
