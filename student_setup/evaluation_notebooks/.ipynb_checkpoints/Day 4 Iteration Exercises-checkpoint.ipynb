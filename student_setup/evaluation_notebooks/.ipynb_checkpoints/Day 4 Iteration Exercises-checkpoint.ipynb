{
 "cells": [
  {
   "cell_type": "markdown",
   "metadata": {},
   "source": [
    "## Day 4 Iteration Exercises"
   ]
  },
  {
   "cell_type": "markdown",
   "metadata": {},
   "source": [
    "### Definite Iterations\n",
    "A `for` loop is used when the number of iterations to be performed is known before the loop."
   ]
  },
  {
   "cell_type": "markdown",
   "metadata": {},
   "source": [
    "#### 1. For loops to perform a definite number of iterations."
   ]
  },
  {
   "cell_type": "code",
   "execution_count": 9,
   "metadata": {},
   "outputs": [],
   "source": [
    "# range(5) creates the list [0,1,2,3,4]. \n",
    "#The for loop assigns i the next value of the list after each iteration.\n",
    "#The loop variable i is used to count the number of times the loop is executed.\n",
    "#Its value is never used in the program\n",
    "\n",
    "for i in range(5):\n",
    "    print(\"duck\")\n",
    "print(\"goose\")"
   ]
  },
  {
   "cell_type": "code",
   "execution_count": 11,
   "metadata": {},
   "outputs": [],
   "source": [
    "#The product 3*4 is the same as 3+3+3+3\n",
    "#Therefore the product m*n can be calculated by adding m to iself n times\n",
    "m = 3\n",
    "n = 4\n",
    "product = 0\n",
    "for i in range(n):\n",
    "    product += m\n",
    "print(product)"
   ]
  },
  {
   "cell_type": "markdown",
   "metadata": {},
   "source": [
    "Alter the program above to calculate the power m^n\n",
    "\n",
    "hint: 3^4 = 3*3*3*3"
   ]
  },
  {
   "cell_type": "code",
   "execution_count": null,
   "metadata": {},
   "outputs": [],
   "source": [
    "# Write your code here"
   ]
  },
  {
   "cell_type": "markdown",
   "metadata": {},
   "source": [
    "For punishment you have to write out the line \"I must learn python.\" ten times."
   ]
  },
  {
   "cell_type": "code",
   "execution_count": null,
   "metadata": {},
   "outputs": [],
   "source": [
    "# Write your code here"
   ]
  },
  {
   "cell_type": "markdown",
   "metadata": {},
   "source": [
    "#### 2. For loops where the loop variable is used in the loop body"
   ]
  },
  {
   "cell_type": "code",
   "execution_count": 17,
   "metadata": {},
   "outputs": [],
   "source": [
    "for i in range(1,6):\n",
    "    print(i)\n",
    "print(\"Once I caught a fish alive\")\n",
    "for i in range(6,11):\n",
    "    print(i)\n",
    "print(\"Then I let him go again!\")"
   ]
  },
  {
   "cell_type": "code",
   "execution_count": 15,
   "metadata": {},
   "outputs": [],
   "source": [
    "for i in range(10,0,-1):\n",
    "    print(i)\n",
    "print(\"BLAST OFF!\")"
   ]
  },
  {
   "cell_type": "code",
   "execution_count": 13,
   "metadata": {},
   "outputs": [],
   "source": [
    "#The factorial of 5 is 1*2*3*4*5 = 120\n",
    "factorial = 1\n",
    "for i in range(1,6):\n",
    "    factorial = factorial * i\n",
    "print(factorial)"
   ]
  },
  {
   "cell_type": "markdown",
   "metadata": {},
   "source": [
    "### Sum of first n squares\n",
    "Write a program that finds the sum of the square of numbers from 0 to `n`  $= 0^2 + 1^2 + 2^2 + 3^2 + \\dots + n^2$. You can compute the square of a number `x` using `x*x` or `x**2`. Remember to include the number n.\n",
    "\n",
    "Check that your code computes the  sum of squares for `n=3` as: \n",
    "\n",
    "    0*0 + 1*1 + 2*2 + 3*3 = 1+4+9 = 14\n",
    "    \n",
    "Print out the sum of squares for `n=20`. \n"
   ]
  },
  {
   "cell_type": "code",
   "execution_count": null,
   "metadata": {},
   "outputs": [],
   "source": [
    "# Write your code here"
   ]
  },
  {
   "cell_type": "markdown",
   "metadata": {},
   "source": [
    "#### 3. Nested for loops"
   ]
  },
  {
   "cell_type": "markdown",
   "metadata": {},
   "source": [
    "Using nested loops print out the squares from the example above to look like this (but each square is printed below the previous one)\n",
    "<img src=\"squares.gif\">"
   ]
  },
  {
   "cell_type": "code",
   "execution_count": null,
   "metadata": {},
   "outputs": [],
   "source": [
    "# Write your code here"
   ]
  },
  {
   "cell_type": "markdown",
   "metadata": {},
   "source": [
    "### Indefinite Loops"
   ]
  },
  {
   "cell_type": "markdown",
   "metadata": {},
   "source": [
    "#### 4. While loops when the terminating condition is known but the number of iterations it will take to reach the condition is unknown."
   ]
  },
  {
   "cell_type": "code",
   "execution_count": null,
   "metadata": {},
   "outputs": [],
   "source": [
    "#Read in a sequence of numbers until a negative number is entered.\n",
    "#Find the total of all the positive numbers entered.\n",
    "total = 0\n",
    "number = int(input(\"Enter a number: \"))\n",
    "while number >= 0:\n",
    "    total += number\n",
    "    number = int(input(\"Enter another number: \"))\n",
    "print(\"The total of all the positive numbers is %s.\" %(total))"
   ]
  },
  {
   "cell_type": "code",
   "execution_count": 2,
   "metadata": {},
   "outputs": [],
   "source": [
    "#Count the number of odd numbers entered in a sequence.\n",
    "count = 0\n",
    "number = int(input(\"Enter a number: \"))\n",
    "while number%2 == 1:\n",
    "    count += 1\n",
    "    number = int(input(\"Enter another number: \"))\n",
    "print(\"The number of odd numbers entered in a row was %s.\" %(count))"
   ]
  },
  {
   "cell_type": "code",
   "execution_count": 12,
   "metadata": {},
   "outputs": [],
   "source": [
    "#Enter a sequence of numbers \n",
    "#until the sum of the numbers entered is greater than 0.\n",
    "#Calculate how many numbers have been entered.\n",
    "#Print out the count, total and average of all the numbers entered."
   ]
  },
  {
   "cell_type": "code",
   "execution_count": 27,
   "metadata": {},
   "outputs": [],
   "source": [
    "#A binary number is calculated by repeated dividing a number by 2.\n",
    "#The program stops when the number equals zero.\n",
    "#The remainders of the division form the binary number.\n",
    "#The binary representation of the number 20 can be calculated as follows\n",
    "#20//2 = 10 remainder 0\n",
    "#10//2 = 5  remainder 0\n",
    "#5//2 = 2   remainder 1\n",
    "#2//2 = 1   remainder 0\n",
    "#1//2 = 0   remainder 1\n",
    "# 20 is 10100 in binary representaion (remainders read from bottom to top)\n",
    "\n",
    "number = 20\n",
    "binary = \"\"\n",
    "while number > 0:\n",
    "    digit = number%2\n",
    "    binary = str(digit) + binary\n",
    "    number = number//2\n",
    "#print(binary)  "
   ]
  },
  {
   "cell_type": "markdown",
   "metadata": {},
   "source": [
    "###  XXX\n",
    "You need to write out a placeholder for a given positive integer (a whole number >0). The placeholder should be a string with one X for each digit of the number. \n",
    "\n",
    "For example, \n",
    "* the number 156 would have placeholder \"XXX\".\n",
    "* the number 8675309 would have placeholder \"XXXXXXX\"\n",
    "* the number 1 would have placeholder \"X\"\n",
    "\n",
    "Write code that prints out the placeholder string for a given number.\n",
    "Store the number you are going to convert in a variable called `number`. Make sure it is an integer, and not a string!\n",
    "\n",
    "**Hints**\n",
    "* You can count the number of digits of an integer by repeatedly diving by 10 until you get a number smaller than 1. \n",
    "* Remember that + can be used to append to a string. `\"sun\"+\"ra\" == \"sunra\"`\n",
    "\n",
    "There are several ways of solving this problem."
   ]
  },
  {
   "cell_type": "code",
   "execution_count": null,
   "metadata": {},
   "outputs": [],
   "source": []
  },
  {
   "cell_type": "markdown",
   "metadata": {},
   "source": [
    "#### 4. While to check if the expected input is correct."
   ]
  },
  {
   "cell_type": "code",
   "execution_count": 2,
   "metadata": {},
   "outputs": [],
   "source": [
    "#Keep asking for a number to be entered until a positive number is entered.\n",
    "\n",
    "number = int(input(\"Enter a positive number: \"))\n",
    "while number < 0:\n",
    "    number = int(input(\"%d is negative, enter another number: \" %(number)))\n",
    "print(\"At last %d is positive.\" %(number))"
   ]
  },
  {
   "cell_type": "code",
   "execution_count": null,
   "metadata": {},
   "outputs": [],
   "source": [
    "#Keep asking for code until a number is entered in the range 100-200"
   ]
  },
  {
   "cell_type": "markdown",
   "metadata": {},
   "source": [
    "### Guessing game"
   ]
  },
  {
   "cell_type": "markdown",
   "metadata": {},
   "source": [
    "Use randint() to produce a random number between 1 and 10. Ask the player to input a number as a guess. If the number is not correct, tell them whether their guess was bigger or smaller than the random number. Keep offering the user guesses until they get it correct. At the enter print out the number of guesses they needed."
   ]
  },
  {
   "cell_type": "code",
   "execution_count": 11,
   "metadata": {},
   "outputs": [],
   "source": [
    "from random import *\n",
    "\n",
    "#generates a random number between 1 and 10(inclusive)\n",
    "unknown = randint(1,10) \n",
    "\n",
    "#write the rest of the program here.....\n"
   ]
  },
  {
   "cell_type": "markdown",
   "metadata": {},
   "source": [
    "### Coverting for loops to while loops\n",
    "A `while` loop is a more general form of iteration than a `for` loop. Every `for` loop can also be written as a `while` loop. But not every `while` loop can be written as a `for` loop. A `while` loop allows looping for an indetermined number of times. A `while` is normally not used in place of a `for` loop. We will examine how each loop can be written as a while loop."
   ]
  },
  {
   "cell_type": "code",
   "execution_count": null,
   "metadata": {},
   "outputs": [],
   "source": [
    "for i in range(5):\n",
    "    print(i)"
   ]
  },
  {
   "cell_type": "code",
   "execution_count": null,
   "metadata": {},
   "outputs": [],
   "source": [
    "i = 0\n",
    "while i < 5:\n",
    "    print(i)\n",
    "    i += 1"
   ]
  },
  {
   "cell_type": "code",
   "execution_count": null,
   "metadata": {},
   "outputs": [],
   "source": [
    "for i in range(4,7):\n",
    "    print(i)"
   ]
  },
  {
   "cell_type": "code",
   "execution_count": null,
   "metadata": {},
   "outputs": [],
   "source": [
    "i = 4\n",
    "while i < 7:\n",
    "    print(i)\n",
    "    i += 1"
   ]
  },
  {
   "cell_type": "markdown",
   "metadata": {},
   "source": [
    "Covert the following for loop into a while loop"
   ]
  },
  {
   "cell_type": "code",
   "execution_count": null,
   "metadata": {},
   "outputs": [],
   "source": [
    "for i in range(2,14,3):\n",
    "    print(i)"
   ]
  },
  {
   "cell_type": "code",
   "execution_count": null,
   "metadata": {},
   "outputs": [],
   "source": []
  },
  {
   "cell_type": "code",
   "execution_count": null,
   "metadata": {},
   "outputs": [],
   "source": [
    "word = \"elephant\"\n",
    "for letter in word:\n",
    "    print(letter)"
   ]
  },
  {
   "cell_type": "code",
   "execution_count": null,
   "metadata": {},
   "outputs": [],
   "source": [
    "word = \"elephant\"\n",
    "i = 0\n",
    "while i < len(word):\n",
    "    print(word[i])\n",
    "    i += 1"
   ]
  },
  {
   "cell_type": "markdown",
   "metadata": {},
   "source": [
    "Convert the following for loop into a while loop"
   ]
  },
  {
   "cell_type": "code",
   "execution_count": 19,
   "metadata": {},
   "outputs": [],
   "source": [
    "matrix = [[2,3,4],[7,1,5]]\n",
    "for row in matrix:\n",
    "    for element in row:\n",
    "        print(element, end = \" \")\n",
    "    print()"
   ]
  },
  {
   "cell_type": "code",
   "execution_count": null,
   "metadata": {},
   "outputs": [],
   "source": []
  },
  {
   "cell_type": "markdown",
   "metadata": {},
   "source": [
    "### Palindrome"
   ]
  },
  {
   "cell_type": "markdown",
   "metadata": {},
   "source": [
    "Using a while loop print out each letter of a word."
   ]
  },
  {
   "cell_type": "code",
   "execution_count": null,
   "metadata": {},
   "outputs": [],
   "source": []
  },
  {
   "cell_type": "markdown",
   "metadata": {},
   "source": [
    "Still using a while loop print out each letter of the word in reverse order."
   ]
  },
  {
   "cell_type": "code",
   "execution_count": null,
   "metadata": {},
   "outputs": [],
   "source": []
  },
  {
   "cell_type": "markdown",
   "metadata": {},
   "source": [
    "Using a single while loop print out the first and last letters, then the 2nd and 2nd last letters,...etc...\n",
    "\n",
    "    eg. if word = \"elephant\" print\n",
    "\n",
    "    e t\n",
    "    l n\n",
    "    e a\n",
    "    p h"
   ]
  },
  {
   "cell_type": "code",
   "execution_count": null,
   "metadata": {},
   "outputs": [],
   "source": []
  },
  {
   "cell_type": "markdown",
   "metadata": {},
   "source": [
    "Now write a program that reads in a word and checks to see if it is a palindrome."
   ]
  },
  {
   "cell_type": "code",
   "execution_count": null,
   "metadata": {},
   "outputs": [],
   "source": []
  }
 ],
 "metadata": {
  "kernelspec": {
   "display_name": "Python 3",
   "language": "python",
   "name": "python3"
  },
  "language_info": {
   "codemirror_mode": {
    "name": "ipython",
    "version": 3
   },
   "file_extension": ".py",
   "mimetype": "text/x-python",
   "name": "python",
   "nbconvert_exporter": "python",
   "pygments_lexer": "ipython3",
   "version": "3.8.3"
  }
 },
 "nbformat": 4,
 "nbformat_minor": 2
}
