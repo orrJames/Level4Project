{
 "cells": [
  {
   "cell_type": "markdown",
   "metadata": {},
   "source": [
    "# Lab 3: Looping\n",
    "\n",
    "There are some lab questions at the end to help reinforce your new Python skills.  Your solutions are not graded so do not worry if you can not finish them all.\n",
    "\n",
    "Repeating actions is what makes computers powerful. Controlling repetition is central to programming. A section of code that repeats is called a **loop**, and the act of repeating is called **iteration** (from the Latin *iterare* \"to do again\").\n",
    "\n",
    "The key thing about looping is that it useful looping does not do *exactly* the same thing again, but repeats an set of instructions (statements) on *different data*."
   ]
  },
  {
   "cell_type": "markdown",
   "metadata": {},
   "source": [
    "## Remember\n",
    "\n",
    "You have the reflective tool bar enabled.  This means that you can record your time spent, write reflective notes, and update how you are feeling.  Please start the timer when you open this Notebook and click the save button when you are finished. Use the reflective note button to add notes throughout.  I would also recommend using the emotion selector at the start and end of the lab.  Once finished with the Notebook, click the lightning bolt button on the tool bar to complete your evaluation and reflections. Always remember to input the correct lab number when asked. \n"
   ]
  },
  {
   "cell_type": "markdown",
   "metadata": {},
   "source": [
    "## Definite iteration\n",
    "Definite iteration means doing something a fixed number of times. In Python, we use `for` to specify a definite iterations. To iterate over a sequence of numbers, we use `range()` to tell `for` what numbers we want to step through:"
   ]
  },
  {
   "cell_type": "markdown",
   "metadata": {},
   "source": [
    "Make a note on the previous task! Think about what you found difficult and what went well. Reflect on something"
   ]
  },
  {
   "cell_type": "markdown",
   "metadata": {},
   "source": [
    "Type you reflective note here!"
   ]
  },
  {
   "cell_type": "code",
   "execution_count": null,
   "metadata": {},
   "outputs": [],
   "source": [
    "for i in range(10):\n",
    "    print(\"*\", end=' ')"
   ]
  },
  {
   "cell_type": "markdown",
   "metadata": {},
   "source": [
    "The **loop variable** is the variable *i* here. It changes as the loop runs."
   ]
  },
  {
   "cell_type": "code",
   "execution_count": null,
   "metadata": {},
   "outputs": [],
   "source": [
    "for i in range(10):\n",
    "    print(i, end=' ')"
   ]
  },
  {
   "cell_type": "markdown",
   "metadata": {},
   "source": [
    "The **loop body** is the all of the code inside of the loop; in this case just the single line:\n",
    "\n",
    "     print(i, end=' ')\n",
    "    "
   ]
  },
  {
   "cell_type": "markdown",
   "metadata": {},
   "source": [
    "<img src=\"for_graph.merm.png\" width=\"300px\">"
   ]
  },
  {
   "cell_type": "markdown",
   "metadata": {},
   "source": [
    "Make a note on the previous task! Think about what you found difficult and what went well. Reflect on something"
   ]
  },
  {
   "cell_type": "markdown",
   "metadata": {},
   "source": []
  },
  {
   "cell_type": "markdown",
   "metadata": {},
   "source": [
    "Note that Python counts from 0, not 1, so `range(10)` will repeat exactly 10 times, but `i` will range from 0 to 9.\n",
    "\n",
    "We can change the range we iterate over:"
   ]
  },
  {
   "cell_type": "code",
   "execution_count": null,
   "metadata": {},
   "outputs": [],
   "source": [
    "# 0..4\n",
    "for i in range(5):\n",
    "    print(i)"
   ]
  },
  {
   "cell_type": "code",
   "execution_count": null,
   "metadata": {},
   "outputs": [],
   "source": [
    "# 1..5\n",
    "for i in range(1,6):\n",
    "    print(i)"
   ]
  },
  {
   "cell_type": "markdown",
   "metadata": {},
   "source": [
    "## Counting from 0\n",
    "It might seem strange that we write `range(1,6)` and stop at 5, but it is consistent with the view that numbers are counted starting at 0. In Python, the start is *inclusive* and the end is *exclusive*.\n",
    "\n",
    "### Skipping\n",
    "We can even make the loop variable skip numbers as it goes, using a step. This is given as the third value to `range()`: `range(0,10,2)` means values from 0 to 9, choosing every fifth number."
   ]
  },
  {
   "cell_type": "code",
   "execution_count": null,
   "metadata": {},
   "outputs": [],
   "source": [
    "# 0..9, every second number\n",
    "# note that I **must** specify the start and end of this range\n",
    "# as well as the step \n",
    "for i in range(0,10,2):\n",
    "    print(i)"
   ]
  },
  {
   "cell_type": "code",
   "execution_count": null,
   "metadata": {},
   "outputs": [],
   "source": [
    "# 0..9, every third number    \n",
    "for i in range(0,10,3):\n",
    "    print(i)"
   ]
  },
  {
   "cell_type": "markdown",
   "metadata": {},
   "source": [
    "## Nested loops\n",
    "We can **nest** one loop inside another. \n",
    "\n",
    "To do this, we just put one loop inside the other."
   ]
  },
  {
   "cell_type": "code",
   "execution_count": null,
   "metadata": {},
   "outputs": [],
   "source": [
    "for i in range(5):\n",
    "    for j in range(10):\n",
    "        print(\"*\", end=\"\")\n",
    "    print() # new line"
   ]
  },
  {
   "cell_type": "code",
   "execution_count": null,
   "metadata": {},
   "outputs": [],
   "source": [
    "for i in range(3):\n",
    "    for j in range(3):\n",
    "        for k in range(3):\n",
    "            print(\"i\", i, \"j\", j, \"k\", k)\n",
    "    print() # print a newline to make it clearer"
   ]
  },
  {
   "cell_type": "markdown",
   "metadata": {},
   "source": [
    "Notice that the **inner** loop (with `j` here) runs \"fastest\", in that it cycles through each of its values before `i` changes (the `i` loop is called the **outer** loop). This is logically what we asked for. "
   ]
  },
  {
   "cell_type": "markdown",
   "metadata": {},
   "source": [
    "## Range\n",
    "When we use `range()` like this, these are known as **counted loops**, because the loop variable counts up. \n",
    "\n",
    "What `range()` really does is generate a sequence of numbers, and `for` then looks at those in turn.\n"
   ]
  },
  {
   "cell_type": "code",
   "execution_count": null,
   "metadata": {},
   "outputs": [],
   "source": [
    "list(range(10))"
   ]
  },
  {
   "cell_type": "markdown",
   "metadata": {},
   "source": [
    "Note that **range** could take a computed expression, not just a constant. **BUT**, the value we loop to must stay constant *within that loop*.\n",
    "\n",
    "This is fine:\n"
   ]
  },
  {
   "cell_type": "code",
   "execution_count": null,
   "metadata": {},
   "outputs": [],
   "source": [
    "for i in range(10):\n",
    "    for j in range(i):\n",
    "        print(\"*\", end=' ') \n",
    "    print()"
   ]
  },
  {
   "cell_type": "markdown",
   "metadata": {},
   "source": [
    "## Never write to loop variables\n",
    "Don't try and change a loop variable during the execution of a loop. The behaviour is not what you might expect (although it is consistent):"
   ]
  },
  {
   "cell_type": "code",
   "execution_count": null,
   "metadata": {},
   "outputs": [],
   "source": [
    "for i in range(10):\n",
    "    if i==5:\n",
    "        i = 25\n",
    "    print(i)"
   ]
  },
  {
   "cell_type": "markdown",
   "metadata": {},
   "source": [
    "## General for loops\n",
    "\n",
    "`for` will actually step through **any** sequence of values. That sequence does not have to come from `range()`. Strings, for example, are sequences of character (length-1 strings) in Python, so this works:"
   ]
  },
  {
   "cell_type": "code",
   "execution_count": null,
   "metadata": {},
   "outputs": [],
   "source": [
    "for temp in [\"cold\", \"warm\", \"hot\", \"scalding\"]:\n",
    "    print(\"It is %s\" % temp)"
   ]
  },
  {
   "cell_type": "markdown",
   "metadata": {},
   "source": [
    "# Indefinite iteration\n",
    "With indefinite iteration, in contrast, we don't specify in advance how many repetitions to do. This is the most general form of a loop.\n",
    "\n",
    "For example, we might want to divide to numbers by repeated subtraction. We don't know how many times we need to subtract the denominator, because that's what we're trying to work out.\n",
    "\n",
    "### While\n",
    "In Python, we use `while` to specify an indefinite loop. The `while` must be followed by a condition (an expression that evaluates to a boolean True or False). If the condition is True, the loop continues. If it is False, the loop is skipped over."
   ]
  },
  {
   "cell_type": "markdown",
   "metadata": {},
   "source": [
    "<img src=\"while_graph.merm.png\" width=\"300px\">"
   ]
  },
  {
   "cell_type": "code",
   "execution_count": null,
   "metadata": {},
   "outputs": [],
   "source": [
    "i = 0\n",
    "while i<5:    \n",
    "    print(i)\n",
    "    i += 1 # VERY IMPORTANT -- if you forget this \n",
    "    # the loop will run forever.\n",
    "    # after all, how could i ever get to be bigger \n",
    "    # than 5 if you don't ever change it!"
   ]
  },
  {
   "cell_type": "markdown",
   "metadata": {},
   "source": [
    "We would never write a loop as a while loop if it could be written neatly as a for loop, but in some cases you can't know the number of iterations in advance, like in the division example:"
   ]
  },
  {
   "cell_type": "code",
   "execution_count": 3,
   "metadata": {},
   "outputs": [],
   "source": [
    "# division by repeated subtraction\n",
    "num = 64\n",
    "denom = 7\n",
    "result = 0\n",
    "while num>denom:\n",
    "    num = num - denom\n",
    "    result += 1\n",
    "    \n",
    "# we will have gone one subtraction \n",
    "# \"too far\", which we correct at the end\n",
    "print(\"%d remainder %d\" % (result, num))\n",
    "# verify our result numerically\n",
    "print(\"%d * %d + %d = %d\" % (result, denom,num,result*denom+num))"
   ]
  },
  {
   "cell_type": "markdown",
   "metadata": {},
   "source": [
    "Or for example, if you were copying lines of text from file to another. You wouldn't know in advance how many lines there are to be copied; you would just keep copying until there are no more lines. \n",
    "\n",
    "Here we do an operation which will terminate after a random number of iterations:"
   ]
  },
  {
   "cell_type": "code",
   "execution_count": null,
   "metadata": {},
   "outputs": [],
   "source": [
    "# loop until some random time. there will be a different number of stars each\n",
    "# time I run this. random.uniform returns a float number between 0 and 1\n",
    "import random\n",
    "while random.uniform(0,1)<0.95:\n",
    "    print(\"*\", end=' ')"
   ]
  },
  {
   "cell_type": "code",
   "execution_count": null,
   "metadata": {},
   "outputs": [],
   "source": [
    "\n",
    "\"\"\"\n",
    "For loops iterate over lists\n",
    "prints:\n",
    "    dog is a mammal\n",
    "    cat is a mammal\n",
    "    mouse is a mammal\n",
    "\"\"\"\n",
    "for animal in [\"dog\", \"cat\", \"mouse\"]:\n",
    "    # You can use {0} to interpolate formatted strings. (See above.)\n",
    "    print(\"%s is a mammal\" %(animal))\n",
    "\n",
    "\"\"\"\n",
    "\"range(number)\" returns a list of numbers\n",
    "from zero to the given number\n",
    "prints:\n",
    "    0\n",
    "    1\n",
    "    2\n",
    "    3\n",
    "\"\"\"\n",
    "for i in range(4):\n",
    "    print(i)\n",
    "\n",
    "\"\"\"\n",
    "\"range(lower, upper)\" returns a list of numbers\n",
    "from the lower number to the upper number\n",
    "prints:\n",
    "    4\n",
    "    5\n",
    "    6\n",
    "    7\n",
    "\"\"\"\n",
    "for i in range(4, 8):\n",
    "    print(i)\n",
    "\n",
    "\"\"\"\n",
    "While loops go until a condition is no longer met.\n",
    "prints:\n",
    "    0\n",
    "    1\n",
    "    2\n",
    "    3\n",
    "\"\"\"\n",
    "x = 0\n",
    "while x < 4:\n",
    "    print(x)\n",
    "    x += 1  # Shorthand for x = x + 1"
   ]
  },
  {
   "cell_type": "markdown",
   "metadata": {},
   "source": [
    "# Lab Exercises - Loops"
   ]
  },
  {
   "cell_type": "markdown",
   "metadata": {},
   "source": [
    "### Definite Iterations\n",
    "A `for` loop is used when the number of iterations to be performed is known before the loop."
   ]
  },
  {
   "cell_type": "markdown",
   "metadata": {},
   "source": [
    "#### 1. For loops to perform a definite number of iterations."
   ]
  },
  {
   "cell_type": "code",
   "execution_count": 9,
   "metadata": {},
   "outputs": [],
   "source": [
    "# range(5) creates the list [0,1,2,3,4]. \n",
    "#The for loop assigns i the next value of the list after each iteration.\n",
    "#The loop variable i is used to count the number of times the loop is executed.\n",
    "#Its value is never used in the program\n",
    "\n",
    "for i in range(5):\n",
    "    print(\"duck\")\n",
    "print(\"goose\")"
   ]
  },
  {
   "cell_type": "code",
   "execution_count": 11,
   "metadata": {},
   "outputs": [],
   "source": [
    "#The product 3*4 is the same as 3+3+3+3\n",
    "#Therefore the product m*n can be calculated by adding m to iself n times\n",
    "m = 3\n",
    "n = 4\n",
    "product = 0\n",
    "for i in range(n):\n",
    "    product += m\n",
    "print(product)"
   ]
  },
  {
   "cell_type": "markdown",
   "metadata": {},
   "source": [
    "Alter the program above to calculate the power m^n\n",
    "\n",
    "hint: 3^4 = 3*3*3*3"
   ]
  },
  {
   "cell_type": "code",
   "execution_count": null,
   "metadata": {},
   "outputs": [],
   "source": [
    "# Write your code here"
   ]
  },
  {
   "cell_type": "markdown",
   "metadata": {},
   "source": [
    "For punishment you have to write out the line \"I must learn python.\" ten times."
   ]
  },
  {
   "cell_type": "code",
   "execution_count": null,
   "metadata": {},
   "outputs": [],
   "source": [
    "# Write your code here"
   ]
  },
  {
   "cell_type": "markdown",
   "metadata": {},
   "source": [
    "#### 2. For loops where the loop variable is used in the loop body"
   ]
  },
  {
   "cell_type": "code",
   "execution_count": 17,
   "metadata": {},
   "outputs": [],
   "source": [
    "for i in range(1,6):\n",
    "    print(i)\n",
    "print(\"Once I caught a fish alive\")\n",
    "for i in range(6,11):\n",
    "    print(i)\n",
    "print(\"Then I let him go again!\")"
   ]
  },
  {
   "cell_type": "code",
   "execution_count": 15,
   "metadata": {},
   "outputs": [],
   "source": [
    "for i in range(10,0,-1):\n",
    "    print(i)\n",
    "print(\"BLAST OFF!\")"
   ]
  },
  {
   "cell_type": "code",
   "execution_count": 13,
   "metadata": {},
   "outputs": [],
   "source": [
    "#The factorial of 5 is 1*2*3*4*5 = 120\n",
    "factorial = 1\n",
    "for i in range(1,6):\n",
    "    factorial = factorial * i\n",
    "print(factorial)"
   ]
  },
  {
   "cell_type": "markdown",
   "metadata": {},
   "source": [
    "### Sum of first n squares\n",
    "Write a program that finds the sum of the square of numbers from 0 to `n`  $= 0^2 + 1^2 + 2^2 + 3^2 + \\dots + n^2$. You can compute the square of a number `x` using `x*x` or `x**2`. Remember to include the number n.\n",
    "\n",
    "Check that your code computes the  sum of squares for `n=3` as: \n",
    "\n",
    "    0*0 + 1*1 + 2*2 + 3*3 = 1+4+9 = 14\n",
    "    \n",
    "Print out the sum of squares for `n=20`. \n"
   ]
  },
  {
   "cell_type": "code",
   "execution_count": null,
   "metadata": {},
   "outputs": [],
   "source": [
    "# Write your code here"
   ]
  },
  {
   "cell_type": "markdown",
   "metadata": {},
   "source": [
    "#### 3. Nested for loops"
   ]
  },
  {
   "cell_type": "markdown",
   "metadata": {},
   "source": [
    "Using nested loops print out the squares from the example above to look like this (but each square is printed below the previous one)\n",
    "<img src=\"squares.gif\">"
   ]
  },
  {
   "cell_type": "code",
   "execution_count": null,
   "metadata": {},
   "outputs": [],
   "source": [
    "# Write your code here"
   ]
  },
  {
   "cell_type": "markdown",
   "metadata": {},
   "source": [
    "### Indefinite Loops"
   ]
  },
  {
   "cell_type": "markdown",
   "metadata": {},
   "source": [
    "#### 4. While loops when the terminating condition is known but the number of iterations it will take to reach the condition is unknown."
   ]
  },
  {
   "cell_type": "code",
   "execution_count": null,
   "metadata": {},
   "outputs": [],
   "source": [
    "#Read in a sequence of numbers until a negative number is entered.\n",
    "#Find the total of all the positive numbers entered.\n",
    "total = 0\n",
    "number = int(input(\"Enter a number: \"))\n",
    "while number >= 0:\n",
    "    total += number\n",
    "    number = int(input(\"Enter another number: \"))\n",
    "print(\"The total of all the positive numbers is %s.\" %(total))"
   ]
  },
  {
   "cell_type": "code",
   "execution_count": 2,
   "metadata": {},
   "outputs": [],
   "source": [
    "#Count the number of odd numbers entered in a sequence.\n",
    "count = 0\n",
    "number = int(input(\"Enter a number: \"))\n",
    "while number%2 == 1:\n",
    "    count += 1\n",
    "    number = int(input(\"Enter another number: \"))\n",
    "print(\"The number of odd numbers entered in a row was %s.\" %(count))"
   ]
  },
  {
   "cell_type": "markdown",
   "metadata": {},
   "source": [
    "Task:\n",
    "    \n",
    "    Enter a sequence of numbers until the sum of the numbers entered is greater than 100.\n",
    "\n",
    "    Calculate how many numbers have been entered.\n",
    "\n",
    "    Print out the count, total and average of all the numbers entered."
   ]
  },
  {
   "cell_type": "code",
   "execution_count": null,
   "metadata": {},
   "outputs": [],
   "source": [
    "# Write your code here"
   ]
  },
  {
   "cell_type": "markdown",
   "metadata": {},
   "source": [
    "### Guessing game"
   ]
  },
  {
   "cell_type": "markdown",
   "metadata": {},
   "source": [
    "Use randint() to produce a random number between 1 and 10. Ask the player to input a number as a guess. If the number is not correct, tell them whether their guess was bigger or smaller than the random number. Keep offering the user guesses until they get it correct. At the enter print out the number of guesses they needed."
   ]
  },
  {
   "cell_type": "code",
   "execution_count": 11,
   "metadata": {},
   "outputs": [],
   "source": [
    "from random import *\n",
    "\n",
    "#generates a random number between 1 and 10(inclusive)\n",
    "unknown = randint(1,10) \n",
    "\n",
    "#write the rest of the program here.....\n"
   ]
  },
  {
   "cell_type": "markdown",
   "metadata": {},
   "source": [
    "### Palindrome"
   ]
  },
  {
   "cell_type": "markdown",
   "metadata": {},
   "source": [
    "Using a while loop print out each letter of a word."
   ]
  },
  {
   "cell_type": "code",
   "execution_count": null,
   "metadata": {},
   "outputs": [],
   "source": [
    "# Write your code here"
   ]
  },
  {
   "cell_type": "markdown",
   "metadata": {},
   "source": [
    "Still using a while loop print out each letter of the word in reverse order."
   ]
  },
  {
   "cell_type": "code",
   "execution_count": null,
   "metadata": {},
   "outputs": [],
   "source": [
    "# Write your code here"
   ]
  },
  {
   "cell_type": "markdown",
   "metadata": {},
   "source": [
    "Now write a program that reads in a word and checks to see if it is a palindrome. \n",
    "\n",
    "Hint: Remember the input() function we learnt about previously..."
   ]
  },
  {
   "cell_type": "code",
   "execution_count": 1,
   "metadata": {},
   "outputs": [],
   "source": [
    "# Write your code here"
   ]
  },
  {
   "cell_type": "code",
   "execution_count": 3,
   "metadata": {},
   "outputs": [
    {
     "name": "stdout",
     "output_type": "stream",
     "text": [
      "The autoreload extension is already loaded. To reload it, use:\n",
      "  %reload_ext autoreload\n"
     ]
    }
   ],
   "source": [
    "%load_ext autoreload\n",
    "%autoreload 2\n",
    "%run C:\\Users\\orrja\\uni\\Level4\\Level4Project\\reflective_note\\reflective_note"
   ]
  },
  {
   "cell_type": "code",
   "execution_count": null,
   "metadata": {},
   "outputs": [],
   "source": [
    "%%to_firebase\n",
    "#Describe your experience"
   ]
  }
 ],
 "metadata": {
  "kernelspec": {
   "display_name": "Python 3",
   "language": "python",
   "name": "python3"
  },
  "language_info": {
   "codemirror_mode": {
    "name": "ipython",
    "version": 3
   },
   "file_extension": ".py",
   "mimetype": "text/x-python",
   "name": "python",
   "nbconvert_exporter": "python",
   "pygments_lexer": "ipython3",
   "version": "3.8.3"
  }
 },
 "nbformat": 4,
 "nbformat_minor": 2
}
